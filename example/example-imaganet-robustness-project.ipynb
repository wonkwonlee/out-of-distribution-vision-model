{
  "cells": [
    {
      "cell_type": "markdown",
      "metadata": {
        "id": "2h6jJTmU2U41"
      },
      "source": [
        "# List of Model Available "
      ]
    },
    {
      "cell_type": "code",
      "execution_count": null,
      "metadata": {
        "colab": {
          "base_uri": "https://localhost:8080/"
        },
        "id": "dmshNv1ZlhZv",
        "outputId": "3c240ca2-6dd8-4ec5-ba3c-1026d00e6020"
      },
      "outputs": [
        {
          "name": "stdout",
          "output_type": "stream",
          "text": [
            "Looking in indexes: https://pypi.org/simple, https://us-python.pkg.dev/colab-wheels/public/simple/\n",
            "Collecting timm\n",
            "  Downloading timm-0.6.12-py3-none-any.whl (549 kB)\n",
            "\u001b[K     |████████████████████████████████| 549 kB 5.1 MB/s \n",
            "\u001b[?25hCollecting huggingface-hub\n",
            "  Downloading huggingface_hub-0.11.1-py3-none-any.whl (182 kB)\n",
            "\u001b[K     |████████████████████████████████| 182 kB 70.8 MB/s \n",
            "\u001b[?25hRequirement already satisfied: pyyaml in /usr/local/lib/python3.8/dist-packages (from timm) (6.0)\n",
            "Requirement already satisfied: torchvision in /usr/local/lib/python3.8/dist-packages (from timm) (0.14.0+cu116)\n",
            "Requirement already satisfied: torch>=1.7 in /usr/local/lib/python3.8/dist-packages (from timm) (1.13.0+cu116)\n",
            "Requirement already satisfied: typing-extensions in /usr/local/lib/python3.8/dist-packages (from torch>=1.7->timm) (4.4.0)\n",
            "Requirement already satisfied: requests in /usr/local/lib/python3.8/dist-packages (from huggingface-hub->timm) (2.23.0)\n",
            "Requirement already satisfied: packaging>=20.9 in /usr/local/lib/python3.8/dist-packages (from huggingface-hub->timm) (21.3)\n",
            "Requirement already satisfied: filelock in /usr/local/lib/python3.8/dist-packages (from huggingface-hub->timm) (3.8.0)\n",
            "Requirement already satisfied: tqdm in /usr/local/lib/python3.8/dist-packages (from huggingface-hub->timm) (4.64.1)\n",
            "Requirement already satisfied: pyparsing!=3.0.5,>=2.0.2 in /usr/local/lib/python3.8/dist-packages (from packaging>=20.9->huggingface-hub->timm) (3.0.9)\n",
            "Requirement already satisfied: urllib3!=1.25.0,!=1.25.1,<1.26,>=1.21.1 in /usr/local/lib/python3.8/dist-packages (from requests->huggingface-hub->timm) (1.24.3)\n",
            "Requirement already satisfied: idna<3,>=2.5 in /usr/local/lib/python3.8/dist-packages (from requests->huggingface-hub->timm) (2.10)\n",
            "Requirement already satisfied: certifi>=2017.4.17 in /usr/local/lib/python3.8/dist-packages (from requests->huggingface-hub->timm) (2022.9.24)\n",
            "Requirement already satisfied: chardet<4,>=3.0.2 in /usr/local/lib/python3.8/dist-packages (from requests->huggingface-hub->timm) (3.0.4)\n",
            "Requirement already satisfied: numpy in /usr/local/lib/python3.8/dist-packages (from torchvision->timm) (1.21.6)\n",
            "Requirement already satisfied: pillow!=8.3.*,>=5.3.0 in /usr/local/lib/python3.8/dist-packages (from torchvision->timm) (7.1.2)\n",
            "Installing collected packages: huggingface-hub, timm\n",
            "Successfully installed huggingface-hub-0.11.1 timm-0.6.12\n"
          ]
        }
      ],
      "source": [
        "!pip install timm"
      ]
    },
    {
      "cell_type": "code",
      "execution_count": null,
      "metadata": {
        "colab": {
          "base_uri": "https://localhost:8080/"
        },
        "id": "n997uXMzlvJJ",
        "outputId": "47f6b6df-eefc-4a1b-bb8b-a0fe8140f134"
      },
      "outputs": [
        {
          "name": "stdout",
          "output_type": "stream",
          "text": [
            "['adv_inception_v3',\n",
            " 'bat_resnext26ts',\n",
            " 'beit_base_patch16_224',\n",
            " 'beit_base_patch16_224_in22k',\n",
            " 'beit_base_patch16_384',\n",
            " 'beit_large_patch16_224',\n",
            " 'beit_large_patch16_224_in22k',\n",
            " 'beit_large_patch16_384',\n",
            " 'beit_large_patch16_512',\n",
            " 'beitv2_base_patch16_224',\n",
            " 'beitv2_base_patch16_224_in22k',\n",
            " 'beitv2_large_patch16_224',\n",
            " 'beitv2_large_patch16_224_in22k',\n",
            " 'botnet26t_256',\n",
            " 'cait_m36_384',\n",
            " 'cait_m48_448',\n",
            " 'cait_s24_224',\n",
            " 'cait_s24_384',\n",
            " 'cait_s36_384',\n",
            " 'cait_xs24_384',\n",
            " 'cait_xxs24_224',\n",
            " 'cait_xxs24_384',\n",
            " 'cait_xxs36_224',\n",
            " 'cait_xxs36_384',\n",
            " 'coat_lite_mini',\n",
            " 'coat_lite_small',\n",
            " 'coat_lite_tiny',\n",
            " 'coat_mini',\n",
            " 'coat_tiny',\n",
            " 'coatnet_0_rw_224',\n",
            " 'coatnet_1_rw_224',\n",
            " 'coatnet_bn_0_rw_224',\n",
            " 'coatnet_nano_rw_224',\n",
            " 'coatnet_rmlp_1_rw_224',\n",
            " 'coatnet_rmlp_2_rw_224',\n",
            " 'coatnet_rmlp_nano_rw_224',\n",
            " 'coatnext_nano_rw_224',\n",
            " 'convit_base',\n",
            " 'convit_small',\n",
            " 'convit_tiny',\n",
            " 'convmixer_768_32',\n",
            " 'convmixer_1024_20_ks9_p14',\n",
            " 'convmixer_1536_20',\n",
            " 'convnext_atto',\n",
            " 'convnext_atto_ols',\n",
            " 'convnext_base',\n",
            " 'convnext_base_384_in22ft1k',\n",
            " 'convnext_base_in22ft1k',\n",
            " 'convnext_base_in22k',\n",
            " 'convnext_femto',\n",
            " 'convnext_femto_ols',\n",
            " 'convnext_large',\n",
            " 'convnext_large_384_in22ft1k',\n",
            " 'convnext_large_in22ft1k',\n",
            " 'convnext_large_in22k',\n",
            " 'convnext_nano',\n",
            " 'convnext_nano_ols',\n",
            " 'convnext_pico',\n",
            " 'convnext_pico_ols',\n",
            " 'convnext_small',\n",
            " 'convnext_small_384_in22ft1k',\n",
            " 'convnext_small_in22ft1k',\n",
            " 'convnext_small_in22k',\n",
            " 'convnext_tiny',\n",
            " 'convnext_tiny_384_in22ft1k',\n",
            " 'convnext_tiny_hnf',\n",
            " 'convnext_tiny_in22ft1k',\n",
            " 'convnext_tiny_in22k',\n",
            " 'convnext_xlarge_384_in22ft1k',\n",
            " 'convnext_xlarge_in22ft1k',\n",
            " 'convnext_xlarge_in22k',\n",
            " 'crossvit_9_240',\n",
            " 'crossvit_9_dagger_240',\n",
            " 'crossvit_15_240',\n",
            " 'crossvit_15_dagger_240',\n",
            " 'crossvit_15_dagger_408',\n",
            " 'crossvit_18_240',\n",
            " 'crossvit_18_dagger_240',\n",
            " 'crossvit_18_dagger_408',\n",
            " 'crossvit_base_240',\n",
            " 'crossvit_small_240',\n",
            " 'crossvit_tiny_240',\n",
            " 'cs3darknet_focus_l',\n",
            " 'cs3darknet_focus_m',\n",
            " 'cs3darknet_l',\n",
            " 'cs3darknet_m',\n",
            " 'cs3darknet_x',\n",
            " 'cs3edgenet_x',\n",
            " 'cs3se_edgenet_x',\n",
            " 'cs3sedarknet_l',\n",
            " 'cs3sedarknet_x',\n",
            " 'cspdarknet53',\n",
            " 'cspresnet50',\n",
            " 'cspresnext50',\n",
            " 'darknet53',\n",
            " 'darknetaa53',\n",
            " 'deit3_base_patch16_224',\n",
            " 'deit3_base_patch16_224_in21ft1k',\n",
            " 'deit3_base_patch16_384',\n",
            " 'deit3_base_patch16_384_in21ft1k',\n",
            " 'deit3_huge_patch14_224',\n",
            " 'deit3_huge_patch14_224_in21ft1k',\n",
            " 'deit3_large_patch16_224',\n",
            " 'deit3_large_patch16_224_in21ft1k',\n",
            " 'deit3_large_patch16_384',\n",
            " 'deit3_large_patch16_384_in21ft1k',\n",
            " 'deit3_medium_patch16_224',\n",
            " 'deit3_medium_patch16_224_in21ft1k',\n",
            " 'deit3_small_patch16_224',\n",
            " 'deit3_small_patch16_224_in21ft1k',\n",
            " 'deit3_small_patch16_384',\n",
            " 'deit3_small_patch16_384_in21ft1k',\n",
            " 'deit_base_distilled_patch16_224',\n",
            " 'deit_base_distilled_patch16_384',\n",
            " 'deit_base_patch16_224',\n",
            " 'deit_base_patch16_384',\n",
            " 'deit_small_distilled_patch16_224',\n",
            " 'deit_small_patch16_224',\n",
            " 'deit_tiny_distilled_patch16_224',\n",
            " 'deit_tiny_patch16_224',\n",
            " 'densenet121',\n",
            " 'densenet161',\n",
            " 'densenet169',\n",
            " 'densenet201',\n",
            " 'densenetblur121d',\n",
            " 'dla34',\n",
            " 'dla46_c',\n",
            " 'dla46x_c',\n",
            " 'dla60',\n",
            " 'dla60_res2net',\n",
            " 'dla60_res2next',\n",
            " 'dla60x',\n",
            " 'dla60x_c',\n",
            " 'dla102',\n",
            " 'dla102x',\n",
            " 'dla102x2',\n",
            " 'dla169',\n",
            " 'dm_nfnet_f0',\n",
            " 'dm_nfnet_f1',\n",
            " 'dm_nfnet_f2',\n",
            " 'dm_nfnet_f3',\n",
            " 'dm_nfnet_f4',\n",
            " 'dm_nfnet_f5',\n",
            " 'dm_nfnet_f6',\n",
            " 'dpn68',\n",
            " 'dpn68b',\n",
            " 'dpn92',\n",
            " 'dpn98',\n",
            " 'dpn107',\n",
            " 'dpn131',\n",
            " 'eca_botnext26ts_256',\n",
            " 'eca_halonext26ts',\n",
            " 'eca_nfnet_l0',\n",
            " 'eca_nfnet_l1',\n",
            " 'eca_nfnet_l2',\n",
            " 'eca_resnet33ts',\n",
            " 'eca_resnext26ts',\n",
            " 'ecaresnet26t',\n",
            " 'ecaresnet50d',\n",
            " 'ecaresnet50d_pruned',\n",
            " 'ecaresnet50t',\n",
            " 'ecaresnet101d',\n",
            " 'ecaresnet101d_pruned',\n",
            " 'ecaresnet269d',\n",
            " 'ecaresnetlight',\n",
            " 'edgenext_base',\n",
            " 'edgenext_small',\n",
            " 'edgenext_small_rw',\n",
            " 'edgenext_x_small',\n",
            " 'edgenext_xx_small',\n",
            " 'efficientformer_l1',\n",
            " 'efficientformer_l3',\n",
            " 'efficientformer_l7',\n",
            " 'efficientnet_b0',\n",
            " 'efficientnet_b1',\n",
            " 'efficientnet_b1_pruned',\n",
            " 'efficientnet_b2',\n",
            " 'efficientnet_b2_pruned',\n",
            " 'efficientnet_b3',\n",
            " 'efficientnet_b3_pruned',\n",
            " 'efficientnet_b4',\n",
            " 'efficientnet_el',\n",
            " 'efficientnet_el_pruned',\n",
            " 'efficientnet_em',\n",
            " 'efficientnet_es',\n",
            " 'efficientnet_es_pruned',\n",
            " 'efficientnet_lite0',\n",
            " 'efficientnetv2_rw_m',\n",
            " 'efficientnetv2_rw_s',\n",
            " 'efficientnetv2_rw_t',\n",
            " 'ens_adv_inception_resnet_v2',\n",
            " 'ese_vovnet19b_dw',\n",
            " 'ese_vovnet39b',\n",
            " 'fbnetc_100',\n",
            " 'fbnetv3_b',\n",
            " 'fbnetv3_d',\n",
            " 'fbnetv3_g',\n",
            " 'gc_efficientnetv2_rw_t',\n",
            " 'gcresnet33ts',\n",
            " 'gcresnet50t',\n",
            " 'gcresnext26ts',\n",
            " 'gcresnext50ts',\n",
            " 'gcvit_base',\n",
            " 'gcvit_small',\n",
            " 'gcvit_tiny',\n",
            " 'gcvit_xtiny',\n",
            " 'gcvit_xxtiny',\n",
            " 'gernet_l',\n",
            " 'gernet_m',\n",
            " 'gernet_s',\n",
            " 'ghostnet_100',\n",
            " 'gluon_inception_v3',\n",
            " 'gluon_resnet18_v1b',\n",
            " 'gluon_resnet34_v1b',\n",
            " 'gluon_resnet50_v1b',\n",
            " 'gluon_resnet50_v1c',\n",
            " 'gluon_resnet50_v1d',\n",
            " 'gluon_resnet50_v1s',\n",
            " 'gluon_resnet101_v1b',\n",
            " 'gluon_resnet101_v1c',\n",
            " 'gluon_resnet101_v1d',\n",
            " 'gluon_resnet101_v1s',\n",
            " 'gluon_resnet152_v1b',\n",
            " 'gluon_resnet152_v1c',\n",
            " 'gluon_resnet152_v1d',\n",
            " 'gluon_resnet152_v1s',\n",
            " 'gluon_resnext50_32x4d',\n",
            " 'gluon_resnext101_32x4d',\n",
            " 'gluon_resnext101_64x4d',\n",
            " 'gluon_senet154',\n",
            " 'gluon_seresnext50_32x4d',\n",
            " 'gluon_seresnext101_32x4d',\n",
            " 'gluon_seresnext101_64x4d',\n",
            " 'gluon_xception65',\n",
            " 'gmixer_24_224',\n",
            " 'gmlp_s16_224',\n",
            " 'halo2botnet50ts_256',\n",
            " 'halonet26t',\n",
            " 'halonet50ts',\n",
            " 'haloregnetz_b',\n",
            " 'hardcorenas_a',\n",
            " 'hardcorenas_b',\n",
            " 'hardcorenas_c',\n",
            " 'hardcorenas_d',\n",
            " 'hardcorenas_e',\n",
            " 'hardcorenas_f',\n",
            " 'hrnet_w18',\n",
            " 'hrnet_w18_small',\n",
            " 'hrnet_w18_small_v2',\n",
            " 'hrnet_w30',\n",
            " 'hrnet_w32',\n",
            " 'hrnet_w40',\n",
            " 'hrnet_w44',\n",
            " 'hrnet_w48',\n",
            " 'hrnet_w64',\n",
            " 'ig_resnext101_32x8d',\n",
            " 'ig_resnext101_32x16d',\n",
            " 'ig_resnext101_32x32d',\n",
            " 'ig_resnext101_32x48d',\n",
            " 'inception_resnet_v2',\n",
            " 'inception_v3',\n",
            " 'inception_v4',\n",
            " 'jx_nest_base',\n",
            " 'jx_nest_small',\n",
            " 'jx_nest_tiny',\n",
            " 'lambda_resnet26rpt_256',\n",
            " 'lambda_resnet26t',\n",
            " 'lambda_resnet50ts',\n",
            " 'lamhalobotnet50ts_256',\n",
            " 'lcnet_050',\n",
            " 'lcnet_075',\n",
            " 'lcnet_100',\n",
            " 'legacy_senet154',\n",
            " 'legacy_seresnet18',\n",
            " 'legacy_seresnet34',\n",
            " 'legacy_seresnet50',\n",
            " 'legacy_seresnet101',\n",
            " 'legacy_seresnet152',\n",
            " 'legacy_seresnext26_32x4d',\n",
            " 'legacy_seresnext50_32x4d',\n",
            " 'legacy_seresnext101_32x4d',\n",
            " 'levit_128',\n",
            " 'levit_128s',\n",
            " 'levit_192',\n",
            " 'levit_256',\n",
            " 'levit_384',\n",
            " 'maxvit_nano_rw_256',\n",
            " 'maxvit_rmlp_nano_rw_256',\n",
            " 'maxvit_rmlp_pico_rw_256',\n",
            " 'maxvit_rmlp_small_rw_224',\n",
            " 'maxvit_rmlp_tiny_rw_256',\n",
            " 'maxvit_tiny_rw_224',\n",
            " 'maxxvit_rmlp_nano_rw_256',\n",
            " 'maxxvit_rmlp_small_rw_256',\n",
            " 'mixer_b16_224',\n",
            " 'mixer_b16_224_in21k',\n",
            " 'mixer_b16_224_miil',\n",
            " 'mixer_b16_224_miil_in21k',\n",
            " 'mixer_l16_224',\n",
            " 'mixer_l16_224_in21k',\n",
            " 'mixnet_l',\n",
            " 'mixnet_m',\n",
            " 'mixnet_s',\n",
            " 'mixnet_xl',\n",
            " 'mnasnet_100',\n",
            " 'mnasnet_small',\n",
            " 'mobilenetv2_050',\n",
            " 'mobilenetv2_100',\n",
            " 'mobilenetv2_110d',\n",
            " 'mobilenetv2_120d',\n",
            " 'mobilenetv2_140',\n",
            " 'mobilenetv3_large_100',\n",
            " 'mobilenetv3_large_100_miil',\n",
            " 'mobilenetv3_large_100_miil_in21k',\n",
            " 'mobilenetv3_rw',\n",
            " 'mobilenetv3_small_050',\n",
            " 'mobilenetv3_small_075',\n",
            " 'mobilenetv3_small_100',\n",
            " 'mobilevit_s',\n",
            " 'mobilevit_xs',\n",
            " 'mobilevit_xxs',\n",
            " 'mobilevitv2_050',\n",
            " 'mobilevitv2_075',\n",
            " 'mobilevitv2_100',\n",
            " 'mobilevitv2_125',\n",
            " 'mobilevitv2_150',\n",
            " 'mobilevitv2_150_384_in22ft1k',\n",
            " 'mobilevitv2_150_in22ft1k',\n",
            " 'mobilevitv2_175',\n",
            " 'mobilevitv2_175_384_in22ft1k',\n",
            " 'mobilevitv2_175_in22ft1k',\n",
            " 'mobilevitv2_200',\n",
            " 'mobilevitv2_200_384_in22ft1k',\n",
            " 'mobilevitv2_200_in22ft1k',\n",
            " 'mvitv2_base',\n",
            " 'mvitv2_large',\n",
            " 'mvitv2_small',\n",
            " 'mvitv2_tiny',\n",
            " 'nasnetalarge',\n",
            " 'nf_regnet_b1',\n",
            " 'nf_resnet50',\n",
            " 'nfnet_l0',\n",
            " 'pit_b_224',\n",
            " 'pit_b_distilled_224',\n",
            " 'pit_s_224',\n",
            " 'pit_s_distilled_224',\n",
            " 'pit_ti_224',\n",
            " 'pit_ti_distilled_224',\n",
            " 'pit_xs_224',\n",
            " 'pit_xs_distilled_224',\n",
            " 'pnasnet5large',\n",
            " 'poolformer_m36',\n",
            " 'poolformer_m48',\n",
            " 'poolformer_s12',\n",
            " 'poolformer_s24',\n",
            " 'poolformer_s36',\n",
            " 'pvt_v2_b0',\n",
            " 'pvt_v2_b1',\n",
            " 'pvt_v2_b2',\n",
            " 'pvt_v2_b2_li',\n",
            " 'pvt_v2_b3',\n",
            " 'pvt_v2_b4',\n",
            " 'pvt_v2_b5',\n",
            " 'regnetv_040',\n",
            " 'regnetv_064',\n",
            " 'regnetx_002',\n",
            " 'regnetx_004',\n",
            " 'regnetx_006',\n",
            " 'regnetx_008',\n",
            " 'regnetx_016',\n",
            " 'regnetx_032',\n",
            " 'regnetx_040',\n",
            " 'regnetx_064',\n",
            " 'regnetx_080',\n",
            " 'regnetx_120',\n",
            " 'regnetx_160',\n",
            " 'regnetx_320',\n",
            " 'regnety_002',\n",
            " 'regnety_004',\n",
            " 'regnety_006',\n",
            " 'regnety_008',\n",
            " 'regnety_016',\n",
            " 'regnety_032',\n",
            " 'regnety_040',\n",
            " 'regnety_064',\n",
            " 'regnety_080',\n",
            " 'regnety_120',\n",
            " 'regnety_160',\n",
            " 'regnety_320',\n",
            " 'regnetz_040',\n",
            " 'regnetz_040h',\n",
            " 'regnetz_b16',\n",
            " 'regnetz_c16',\n",
            " 'regnetz_c16_evos',\n",
            " 'regnetz_d8',\n",
            " 'regnetz_d8_evos',\n",
            " 'regnetz_d32',\n",
            " 'regnetz_e8',\n",
            " 'repvgg_a2',\n",
            " 'repvgg_b0',\n",
            " 'repvgg_b1',\n",
            " 'repvgg_b1g4',\n",
            " 'repvgg_b2',\n",
            " 'repvgg_b2g4',\n",
            " 'repvgg_b3',\n",
            " 'repvgg_b3g4',\n",
            " 'res2net50_14w_8s',\n",
            " 'res2net50_26w_4s',\n",
            " 'res2net50_26w_6s',\n",
            " 'res2net50_26w_8s',\n",
            " 'res2net50_48w_2s',\n",
            " 'res2net101_26w_4s',\n",
            " 'res2next50',\n",
            " 'resmlp_12_224',\n",
            " 'resmlp_12_224_dino',\n",
            " 'resmlp_12_distilled_224',\n",
            " 'resmlp_24_224',\n",
            " 'resmlp_24_224_dino',\n",
            " 'resmlp_24_distilled_224',\n",
            " 'resmlp_36_224',\n",
            " 'resmlp_36_distilled_224',\n",
            " 'resmlp_big_24_224',\n",
            " 'resmlp_big_24_224_in22ft1k',\n",
            " 'resmlp_big_24_distilled_224',\n",
            " 'resnest14d',\n",
            " 'resnest26d',\n",
            " 'resnest50d',\n",
            " 'resnest50d_1s4x24d',\n",
            " 'resnest50d_4s2x40d',\n",
            " 'resnest101e',\n",
            " 'resnest200e',\n",
            " 'resnest269e',\n",
            " 'resnet10t',\n",
            " 'resnet14t',\n",
            " 'resnet18',\n",
            " 'resnet18d',\n",
            " 'resnet26',\n",
            " 'resnet26d',\n",
            " 'resnet26t',\n",
            " 'resnet32ts',\n",
            " 'resnet33ts',\n",
            " 'resnet34',\n",
            " 'resnet34d',\n",
            " 'resnet50',\n",
            " 'resnet50_gn',\n",
            " 'resnet50d',\n",
            " 'resnet51q',\n",
            " 'resnet61q',\n",
            " 'resnet101',\n",
            " 'resnet101d',\n",
            " 'resnet152',\n",
            " 'resnet152d',\n",
            " 'resnet200d',\n",
            " 'resnetaa50',\n",
            " 'resnetblur50',\n",
            " 'resnetrs50',\n",
            " 'resnetrs101',\n",
            " 'resnetrs152',\n",
            " 'resnetrs200',\n",
            " 'resnetrs270',\n",
            " 'resnetrs350',\n",
            " 'resnetrs420',\n",
            " 'resnetv2_50',\n",
            " 'resnetv2_50d_evos',\n",
            " 'resnetv2_50d_gn',\n",
            " 'resnetv2_50x1_bit_distilled',\n",
            " 'resnetv2_50x1_bitm',\n",
            " 'resnetv2_50x1_bitm_in21k',\n",
            " 'resnetv2_50x3_bitm',\n",
            " 'resnetv2_50x3_bitm_in21k',\n",
            " 'resnetv2_101',\n",
            " 'resnetv2_101x1_bitm',\n",
            " 'resnetv2_101x1_bitm_in21k',\n",
            " 'resnetv2_101x3_bitm',\n",
            " 'resnetv2_101x3_bitm_in21k',\n",
            " 'resnetv2_152x2_bit_teacher',\n",
            " 'resnetv2_152x2_bit_teacher_384',\n",
            " 'resnetv2_152x2_bitm',\n",
            " 'resnetv2_152x2_bitm_in21k',\n",
            " 'resnetv2_152x4_bitm',\n",
            " 'resnetv2_152x4_bitm_in21k',\n",
            " 'resnext26ts',\n",
            " 'resnext50_32x4d',\n",
            " 'resnext50d_32x4d',\n",
            " 'resnext101_32x8d',\n",
            " 'resnext101_64x4d',\n",
            " 'rexnet_100',\n",
            " 'rexnet_130',\n",
            " 'rexnet_150',\n",
            " 'rexnet_200',\n",
            " 'sebotnet33ts_256',\n",
            " 'sehalonet33ts',\n",
            " 'selecsls42b',\n",
            " 'selecsls60',\n",
            " 'selecsls60b',\n",
            " 'semnasnet_075',\n",
            " 'semnasnet_100',\n",
            " 'sequencer2d_l',\n",
            " 'sequencer2d_m',\n",
            " 'sequencer2d_s',\n",
            " 'seresnet33ts',\n",
            " 'seresnet50',\n",
            " 'seresnet152d',\n",
            " 'seresnext26d_32x4d',\n",
            " 'seresnext26t_32x4d',\n",
            " 'seresnext26ts',\n",
            " 'seresnext50_32x4d',\n",
            " 'seresnext101_32x8d',\n",
            " 'seresnext101d_32x8d',\n",
            " 'seresnextaa101d_32x8d',\n",
            " 'skresnet18',\n",
            " 'skresnet34',\n",
            " 'skresnext50_32x4d',\n",
            " 'spnasnet_100',\n",
            " 'ssl_resnet18',\n",
            " 'ssl_resnet50',\n",
            " 'ssl_resnext50_32x4d',\n",
            " 'ssl_resnext101_32x4d',\n",
            " 'ssl_resnext101_32x8d',\n",
            " 'ssl_resnext101_32x16d',\n",
            " 'swin_base_patch4_window7_224',\n",
            " 'swin_base_patch4_window7_224_in22k',\n",
            " 'swin_base_patch4_window12_384',\n",
            " 'swin_base_patch4_window12_384_in22k',\n",
            " 'swin_large_patch4_window7_224',\n",
            " 'swin_large_patch4_window7_224_in22k',\n",
            " 'swin_large_patch4_window12_384',\n",
            " 'swin_large_patch4_window12_384_in22k',\n",
            " 'swin_s3_base_224',\n",
            " 'swin_s3_small_224',\n",
            " 'swin_s3_tiny_224',\n",
            " 'swin_small_patch4_window7_224',\n",
            " 'swin_tiny_patch4_window7_224',\n",
            " 'swinv2_base_window8_256',\n",
            " 'swinv2_base_window12_192_22k',\n",
            " 'swinv2_base_window12to16_192to256_22kft1k',\n",
            " 'swinv2_base_window12to24_192to384_22kft1k',\n",
            " 'swinv2_base_window16_256',\n",
            " 'swinv2_cr_small_224',\n",
            " 'swinv2_cr_small_ns_224',\n",
            " 'swinv2_cr_tiny_ns_224',\n",
            " 'swinv2_large_window12_192_22k',\n",
            " 'swinv2_large_window12to16_192to256_22kft1k',\n",
            " 'swinv2_large_window12to24_192to384_22kft1k',\n",
            " 'swinv2_small_window8_256',\n",
            " 'swinv2_small_window16_256',\n",
            " 'swinv2_tiny_window8_256',\n",
            " 'swinv2_tiny_window16_256',\n",
            " 'swsl_resnet18',\n",
            " 'swsl_resnet50',\n",
            " 'swsl_resnext50_32x4d',\n",
            " 'swsl_resnext101_32x4d',\n",
            " 'swsl_resnext101_32x8d',\n",
            " 'swsl_resnext101_32x16d',\n",
            " 'tf_efficientnet_b0',\n",
            " 'tf_efficientnet_b0_ap',\n",
            " 'tf_efficientnet_b0_ns',\n",
            " 'tf_efficientnet_b1',\n",
            " 'tf_efficientnet_b1_ap',\n",
            " 'tf_efficientnet_b1_ns',\n",
            " 'tf_efficientnet_b2',\n",
            " 'tf_efficientnet_b2_ap',\n",
            " 'tf_efficientnet_b2_ns',\n",
            " 'tf_efficientnet_b3',\n",
            " 'tf_efficientnet_b3_ap',\n",
            " 'tf_efficientnet_b3_ns',\n",
            " 'tf_efficientnet_b4',\n",
            " 'tf_efficientnet_b4_ap',\n",
            " 'tf_efficientnet_b4_ns',\n",
            " 'tf_efficientnet_b5',\n",
            " 'tf_efficientnet_b5_ap',\n",
            " 'tf_efficientnet_b5_ns',\n",
            " 'tf_efficientnet_b6',\n",
            " 'tf_efficientnet_b6_ap',\n",
            " 'tf_efficientnet_b6_ns',\n",
            " 'tf_efficientnet_b7',\n",
            " 'tf_efficientnet_b7_ap',\n",
            " 'tf_efficientnet_b7_ns',\n",
            " 'tf_efficientnet_b8',\n",
            " 'tf_efficientnet_b8_ap',\n",
            " 'tf_efficientnet_cc_b0_4e',\n",
            " 'tf_efficientnet_cc_b0_8e',\n",
            " 'tf_efficientnet_cc_b1_8e',\n",
            " 'tf_efficientnet_el',\n",
            " 'tf_efficientnet_em',\n",
            " 'tf_efficientnet_es',\n",
            " 'tf_efficientnet_l2_ns',\n",
            " 'tf_efficientnet_l2_ns_475',\n",
            " 'tf_efficientnet_lite0',\n",
            " 'tf_efficientnet_lite1',\n",
            " 'tf_efficientnet_lite2',\n",
            " 'tf_efficientnet_lite3',\n",
            " 'tf_efficientnet_lite4',\n",
            " 'tf_efficientnetv2_b0',\n",
            " 'tf_efficientnetv2_b1',\n",
            " 'tf_efficientnetv2_b2',\n",
            " 'tf_efficientnetv2_b3',\n",
            " 'tf_efficientnetv2_l',\n",
            " 'tf_efficientnetv2_l_in21ft1k',\n",
            " 'tf_efficientnetv2_l_in21k',\n",
            " 'tf_efficientnetv2_m',\n",
            " 'tf_efficientnetv2_m_in21ft1k',\n",
            " 'tf_efficientnetv2_m_in21k',\n",
            " 'tf_efficientnetv2_s',\n",
            " 'tf_efficientnetv2_s_in21ft1k',\n",
            " 'tf_efficientnetv2_s_in21k',\n",
            " 'tf_efficientnetv2_xl_in21ft1k',\n",
            " 'tf_efficientnetv2_xl_in21k',\n",
            " 'tf_inception_v3',\n",
            " 'tf_mixnet_l',\n",
            " 'tf_mixnet_m',\n",
            " 'tf_mixnet_s',\n",
            " 'tf_mobilenetv3_large_075',\n",
            " 'tf_mobilenetv3_large_100',\n",
            " 'tf_mobilenetv3_large_minimal_100',\n",
            " 'tf_mobilenetv3_small_075',\n",
            " 'tf_mobilenetv3_small_100',\n",
            " 'tf_mobilenetv3_small_minimal_100',\n",
            " 'tinynet_a',\n",
            " 'tinynet_b',\n",
            " 'tinynet_c',\n",
            " 'tinynet_d',\n",
            " 'tinynet_e',\n",
            " 'tnt_s_patch16_224',\n",
            " 'tresnet_l',\n",
            " 'tresnet_l_448',\n",
            " 'tresnet_m',\n",
            " 'tresnet_m_448',\n",
            " 'tresnet_m_miil_in21k',\n",
            " 'tresnet_v2_l',\n",
            " 'tresnet_xl',\n",
            " 'tresnet_xl_448',\n",
            " 'tv_densenet121',\n",
            " 'tv_resnet34',\n",
            " 'tv_resnet50',\n",
            " 'tv_resnet101',\n",
            " 'tv_resnet152',\n",
            " 'tv_resnext50_32x4d',\n",
            " 'twins_pcpvt_base',\n",
            " 'twins_pcpvt_large',\n",
            " 'twins_pcpvt_small',\n",
            " 'twins_svt_base',\n",
            " 'twins_svt_large',\n",
            " 'twins_svt_small',\n",
            " 'vgg11',\n",
            " 'vgg11_bn',\n",
            " 'vgg13',\n",
            " 'vgg13_bn',\n",
            " 'vgg16',\n",
            " 'vgg16_bn',\n",
            " 'vgg19',\n",
            " 'vgg19_bn',\n",
            " 'visformer_small',\n",
            " 'vit_base_patch8_224',\n",
            " 'vit_base_patch8_224_dino',\n",
            " 'vit_base_patch8_224_in21k',\n",
            " 'vit_base_patch16_224',\n",
            " 'vit_base_patch16_224_dino',\n",
            " 'vit_base_patch16_224_in21k',\n",
            " 'vit_base_patch16_224_miil',\n",
            " 'vit_base_patch16_224_miil_in21k',\n",
            " 'vit_base_patch16_224_sam',\n",
            " 'vit_base_patch16_384',\n",
            " 'vit_base_patch16_rpn_224',\n",
            " 'vit_base_patch32_224',\n",
            " 'vit_base_patch32_224_clip_laion2b',\n",
            " 'vit_base_patch32_224_in21k',\n",
            " 'vit_base_patch32_224_sam',\n",
            " 'vit_base_patch32_384',\n",
            " 'vit_base_r50_s16_224_in21k',\n",
            " 'vit_base_r50_s16_384',\n",
            " 'vit_giant_patch14_224_clip_laion2b',\n",
            " 'vit_huge_patch14_224_clip_laion2b',\n",
            " 'vit_huge_patch14_224_in21k',\n",
            " 'vit_large_patch14_224_clip_laion2b',\n",
            " 'vit_large_patch16_224',\n",
            " 'vit_large_patch16_224_in21k',\n",
            " 'vit_large_patch16_384',\n",
            " 'vit_large_patch32_224_in21k',\n",
            " 'vit_large_patch32_384',\n",
            " 'vit_large_r50_s32_224',\n",
            " 'vit_large_r50_s32_224_in21k',\n",
            " 'vit_large_r50_s32_384',\n",
            " 'vit_relpos_base_patch16_224',\n",
            " 'vit_relpos_base_patch16_clsgap_224',\n",
            " 'vit_relpos_base_patch32_plus_rpn_256',\n",
            " 'vit_relpos_medium_patch16_224',\n",
            " 'vit_relpos_medium_patch16_cls_224',\n",
            " 'vit_relpos_medium_patch16_rpn_224',\n",
            " 'vit_relpos_small_patch16_224',\n",
            " 'vit_small_patch8_224_dino',\n",
            " 'vit_small_patch16_224',\n",
            " 'vit_small_patch16_224_dino',\n",
            " 'vit_small_patch16_224_in21k',\n",
            " 'vit_small_patch16_384',\n",
            " 'vit_small_patch32_224',\n",
            " 'vit_small_patch32_224_in21k',\n",
            " 'vit_small_patch32_384',\n",
            " 'vit_small_r26_s32_224',\n",
            " 'vit_small_r26_s32_224_in21k',\n",
            " 'vit_small_r26_s32_384',\n",
            " 'vit_srelpos_medium_patch16_224',\n",
            " 'vit_srelpos_small_patch16_224',\n",
            " 'vit_tiny_patch16_224',\n",
            " 'vit_tiny_patch16_224_in21k',\n",
            " 'vit_tiny_patch16_384',\n",
            " 'vit_tiny_r_s16_p8_224',\n",
            " 'vit_tiny_r_s16_p8_224_in21k',\n",
            " 'vit_tiny_r_s16_p8_384',\n",
            " 'volo_d1_224',\n",
            " 'volo_d1_384',\n",
            " 'volo_d2_224',\n",
            " 'volo_d2_384',\n",
            " 'volo_d3_224',\n",
            " 'volo_d3_448',\n",
            " 'volo_d4_224',\n",
            " 'volo_d4_448',\n",
            " 'volo_d5_224',\n",
            " 'volo_d5_448',\n",
            " 'volo_d5_512',\n",
            " 'wide_resnet50_2',\n",
            " 'wide_resnet101_2',\n",
            " 'xception',\n",
            " 'xception41',\n",
            " 'xception41p',\n",
            " 'xception65',\n",
            " 'xception65p',\n",
            " 'xception71',\n",
            " 'xcit_large_24_p8_224',\n",
            " 'xcit_large_24_p8_224_dist',\n",
            " 'xcit_large_24_p8_384_dist',\n",
            " 'xcit_large_24_p16_224',\n",
            " 'xcit_large_24_p16_224_dist',\n",
            " 'xcit_large_24_p16_384_dist',\n",
            " 'xcit_medium_24_p8_224',\n",
            " 'xcit_medium_24_p8_224_dist',\n",
            " 'xcit_medium_24_p8_384_dist',\n",
            " 'xcit_medium_24_p16_224',\n",
            " 'xcit_medium_24_p16_224_dist',\n",
            " 'xcit_medium_24_p16_384_dist',\n",
            " 'xcit_nano_12_p8_224',\n",
            " 'xcit_nano_12_p8_224_dist',\n",
            " 'xcit_nano_12_p8_384_dist',\n",
            " 'xcit_nano_12_p16_224',\n",
            " 'xcit_nano_12_p16_224_dist',\n",
            " 'xcit_nano_12_p16_384_dist',\n",
            " 'xcit_small_12_p8_224',\n",
            " 'xcit_small_12_p8_224_dist',\n",
            " 'xcit_small_12_p8_384_dist',\n",
            " 'xcit_small_12_p16_224',\n",
            " 'xcit_small_12_p16_224_dist',\n",
            " 'xcit_small_12_p16_384_dist',\n",
            " 'xcit_small_24_p8_224',\n",
            " 'xcit_small_24_p8_224_dist',\n",
            " 'xcit_small_24_p8_384_dist',\n",
            " 'xcit_small_24_p16_224',\n",
            " 'xcit_small_24_p16_224_dist',\n",
            " 'xcit_small_24_p16_384_dist',\n",
            " 'xcit_tiny_12_p8_224',\n",
            " 'xcit_tiny_12_p8_224_dist',\n",
            " 'xcit_tiny_12_p8_384_dist',\n",
            " 'xcit_tiny_12_p16_224',\n",
            " 'xcit_tiny_12_p16_224_dist',\n",
            " 'xcit_tiny_12_p16_384_dist',\n",
            " 'xcit_tiny_24_p8_224',\n",
            " 'xcit_tiny_24_p8_224_dist',\n",
            " 'xcit_tiny_24_p8_384_dist',\n",
            " 'xcit_tiny_24_p16_224',\n",
            " 'xcit_tiny_24_p16_224_dist',\n",
            " 'xcit_tiny_24_p16_384_dist']\n"
          ]
        }
      ],
      "source": [
        "import timm\n",
        "from pprint import pprint\n",
        "model_names = timm.list_models(pretrained=True)\n",
        "pprint(model_names)"
      ]
    },
    {
      "cell_type": "code",
      "execution_count": null,
      "metadata": {
        "id": "DVfUzHN8zrJE"
      },
      "outputs": [],
      "source": [
        "# Helper functions for evaluation\n",
        "# Reference: Natural Adversarial Examples \n",
        "# https://github.com/hendrycks/natural-adv-examples\n",
        "\n",
        "import numpy as np\n",
        "import sklearn.metrics as sk\n",
        "import sklearn.neighbors\n",
        "import sklearn.ensemble\n",
        "import time\n",
        "\n",
        "recall_level_default = 0.95\n",
        "\n",
        "\n",
        "\n",
        "def calib_err(confidence, correct, p='2', beta=100):\n",
        "    # beta is target bin size\n",
        "    idxs = np.argsort(confidence)\n",
        "    confidence = confidence[idxs]\n",
        "    correct = correct[idxs]\n",
        "    bins = [[i * beta, (i + 1) * beta] for i in range(len(confidence) // beta)]\n",
        "    bins[-1] = [bins[-1][0], len(confidence)]\n",
        "\n",
        "    cerr = 0\n",
        "    total_examples = len(confidence)\n",
        "    for i in range(len(bins) - 1):\n",
        "        bin_confidence = confidence[bins[i][0]:bins[i][1]]\n",
        "        bin_correct = correct[bins[i][0]:bins[i][1]]\n",
        "        num_examples_in_bin = len(bin_confidence)\n",
        "\n",
        "        if num_examples_in_bin > 0:\n",
        "            difference = np.abs(np.nanmean(bin_confidence) - np.nanmean(bin_correct))\n",
        "\n",
        "            if p == '2':\n",
        "                cerr += num_examples_in_bin / total_examples * np.square(difference)\n",
        "            elif p == '1':\n",
        "                cerr += num_examples_in_bin / total_examples * difference\n",
        "            elif p == 'infty' or p == 'infinity' or p == 'max':\n",
        "                cerr = np.maximum(cerr, difference)\n",
        "            else:\n",
        "                assert False, \"p must be '1', '2', or 'infty'\"\n",
        "\n",
        "    if p == '2':\n",
        "        cerr = np.sqrt(cerr)\n",
        "\n",
        "    return cerr\n",
        "\n",
        "\n",
        "def aurra(confidence, correct):\n",
        "    conf_ranks = np.argsort(confidence)[::-1]  # indices from greatest to least confidence\n",
        "    rra_curve = np.cumsum(np.asarray(correct)[conf_ranks])\n",
        "    rra_curve = rra_curve / np.arange(1, len(rra_curve) + 1)  # accuracy at each response rate\n",
        "    return np.mean(rra_curve)\n",
        "\n",
        "\n",
        "def soft_f1(confidence, correct):\n",
        "    wrong = 1 - correct\n",
        "\n",
        "    # # the incorrectly classified samples are our interest\n",
        "    # # so they make the positive class\n",
        "    # tp_soft = np.sum((1 - confidence) * wrong)\n",
        "    # fp_soft = np.sum((1 - confidence) * correct)\n",
        "    # fn_soft = np.sum(confidence * wrong)\n",
        "\n",
        "    # return 2 * tp_soft / (2 * tp_soft + fn_soft + fp_soft)\n",
        "    return 2 * ((1 - confidence) * wrong).sum()/(1 - confidence + wrong).sum()\n",
        "\n",
        "\n",
        "def tune_temp(logits, labels, binary_search=True, lower=0.2, upper=5.0, eps=0.0001):\n",
        "    logits = np.array(logits)\n",
        "\n",
        "    if binary_search:\n",
        "        import torch\n",
        "        import torch.nn.functional as F\n",
        "\n",
        "        logits = torch.FloatTensor(logits)\n",
        "        labels = torch.LongTensor(labels)\n",
        "        t_guess = torch.FloatTensor([0.5*(lower + upper)]).requires_grad_()\n",
        "\n",
        "        while upper - lower > eps:\n",
        "            if torch.autograd.grad(F.cross_entropy(logits / t_guess, labels), t_guess)[0] > 0:\n",
        "                upper = 0.5 * (lower + upper)\n",
        "            else:\n",
        "                lower = 0.5 * (lower + upper)\n",
        "            t_guess = t_guess * 0 + 0.5 * (lower + upper)\n",
        "\n",
        "        t = min([lower, 0.5 * (lower + upper), upper], key=lambda x: float(F.cross_entropy(logits / x, labels)))\n",
        "    else:\n",
        "        import cvxpy as cx\n",
        "\n",
        "        set_size = np.array(logits).shape[0]\n",
        "\n",
        "        t = cx.Variable()\n",
        "\n",
        "        expr = sum((cx.Minimize(cx.log_sum_exp(logits[i, :] * t) - logits[i, labels[i]] * t)\n",
        "                    for i in range(set_size)))\n",
        "        p = cx.Problem(expr, [lower <= t, t <= upper])\n",
        "\n",
        "        p.solve()   # p.solve(solver=cx.SCS)\n",
        "        t = 1 / t.value\n",
        "\n",
        "    return t\n",
        "\n",
        "\n",
        "def get_measures(confidence, correct):\n",
        "    rms = calib_err(confidence, correct, p='2')\n",
        "    aurra_metric = aurra(confidence, correct)\n",
        "    mad = calib_err(confidence, correct, p='1')  # secondary metric\n",
        "    sf1 = soft_f1(confidence, correct)    # secondary metric\n",
        "\n",
        "    return rms, aurra_metric, mad, sf1\n",
        "\n",
        "\n",
        "def print_measures(rms, aurra_metric, mad, sf1, method_name='Baseline'):\n",
        "    print('\\t\\t\\t\\t\\t\\t\\t' + method_name)\n",
        "    print('RMS Calib Error (%): \\t\\t{:.2f}'.format(100 * rms))\n",
        "    print('AURRA (%): \\t\\t\\t{:.2f}'.format(100 * aurra))\n",
        "    # print('MAD Calib Error (%): \\t\\t{:.2f}'.format(100 * mad))\n",
        "    # print('Soft F1 Score (%):   \\t\\t{:.2f}'.format(100 * sf1))\n",
        "\n",
        "\n",
        "def show_calibration_results(confidence, correct):\n",
        "\n",
        "    print('RMS Calib Error (%): \\t{:.2f}'.format(\n",
        "        100 * calib_err(confidence, correct, p='2')))\n",
        "\n",
        "    print('AURRA (%): \\t\\t{:.2f}'.format(\n",
        "        100 * aurra(confidence, correct)))\n",
        "\n",
        "    # print('MAD Calib Error (%): \\t\\t{:.2f}'.format(\n",
        "    #     100 * calib_err(confidence, correct, p='1')))\n",
        "\n",
        "    # print('Soft F1-Score (%): \\t\\t{:.2f}'.format(\n",
        "    #     100 * soft_f1(confidence, correct))\n",
        "\n",
        "\n",
        "\n",
        "def stable_cumsum(arr, rtol=1e-05, atol=1e-08):\n",
        "    \"\"\"Use high precision for cumsum and check that final value matches sum\n",
        "    Parameters\n",
        "    ----------\n",
        "    arr : array-like\n",
        "        To be cumulatively summed as flat\n",
        "    rtol : float\n",
        "        Relative tolerance, see ``np.allclose``\n",
        "    atol : float\n",
        "        Absolute tolerance, see ``np.allclose``\n",
        "    \"\"\"\n",
        "    out = np.cumsum(arr, dtype=np.float64)\n",
        "    expected = np.sum(arr, dtype=np.float64)\n",
        "    if not np.allclose(out[-1], expected, rtol=rtol, atol=atol):\n",
        "        raise RuntimeError('cumsum was found to be unstable: '\n",
        "                           'its last element does not correspond to sum')\n",
        "    return out\n",
        "\n",
        "def fpr_and_fdr_at_recall(y_true, y_score, recall_level=recall_level_default, pos_label=None):\n",
        "    classes = np.unique(y_true)\n",
        "    if (pos_label is None and\n",
        "            not (np.array_equal(classes, [0, 1]) or\n",
        "                     np.array_equal(classes, [-1, 1]) or\n",
        "                     np.array_equal(classes, [0]) or\n",
        "                     np.array_equal(classes, [-1]) or\n",
        "                     np.array_equal(classes, [1]))):\n",
        "        raise ValueError(\"Data is not binary and pos_label is not specified\")\n",
        "    elif pos_label is None:\n",
        "        pos_label = 1.\n",
        "\n",
        "    # make y_true a boolean vector\n",
        "    y_true = (y_true == pos_label)\n",
        "\n",
        "    # sort scores and corresponding truth values\n",
        "    desc_score_indices = np.argsort(y_score, kind=\"mergesort\")[::-1]\n",
        "    y_score = y_score[desc_score_indices]\n",
        "    y_true = y_true[desc_score_indices]\n",
        "\n",
        "    # y_score typically has many tied values. Here we extract\n",
        "    # the indices associated with the distinct values. We also\n",
        "    # concatenate a value for the end of the curve.\n",
        "    distinct_value_indices = np.where(np.diff(y_score))[0]\n",
        "    threshold_idxs = np.r_[distinct_value_indices, y_true.size - 1]\n",
        "\n",
        "    # accumulate the true positives with decreasing threshold\n",
        "    tps = stable_cumsum(y_true)[threshold_idxs]\n",
        "    fps = 1 + threshold_idxs - tps      # add one because of zero-based indexing\n",
        "\n",
        "    thresholds = y_score[threshold_idxs]\n",
        "\n",
        "    recall = tps / tps[-1]\n",
        "\n",
        "    last_ind = tps.searchsorted(tps[-1])\n",
        "    sl = slice(last_ind, None, -1)      # [last_ind::-1]\n",
        "    recall, fps, tps, thresholds = np.r_[recall[sl], 1], np.r_[fps[sl], 0], np.r_[tps[sl], 0], thresholds[sl]\n",
        "\n",
        "    cutoff = np.argmin(np.abs(recall - recall_level))\n",
        "\n",
        "    return fps[cutoff] / (np.sum(np.logical_not(y_true)))   # , fps[cutoff]/(fps[cutoff] + tps[cutoff])\n",
        "\n",
        "def get_measures(_pos, _neg, recall_level=recall_level_default):\n",
        "    pos = np.array(_pos[:]).reshape((-1, 1))\n",
        "    neg = np.array(_neg[:]).reshape((-1, 1))\n",
        "    examples = np.squeeze(np.vstack((pos, neg)))\n",
        "    labels = np.zeros(len(examples), dtype=np.int32)\n",
        "    labels[:len(pos)] += 1\n",
        "\n",
        "    auroc = sk.roc_auc_score(labels, examples)\n",
        "    aupr = sk.average_precision_score(labels, examples)\n",
        "    fpr = fpr_and_fdr_at_recall(labels, examples, recall_level)\n",
        "\n",
        "    return auroc, aupr, fpr\n",
        "\n",
        "\n",
        "def print_measures_old(auroc, aupr, fpr, method_name='Ours', recall_level=recall_level_default):\n",
        "    print('\\t\\t\\t' + method_name)\n",
        "    print('FPR{:d}:\\t{:.2f}'.format(int(100 * recall_level), 100 * fpr))\n",
        "    print('AUROC: \\t{:.2f}'.format(100 * auroc))\n",
        "    print('AUPR:  \\t{:.2f}'.format(100 * aupr))\n",
        "\n",
        "\n",
        "def print_measures_with_std(aurocs, auprs, fprs, method_name='Ours', recall_level=recall_level_default):\n",
        "    print('\\t\\t\\t' + method_name)\n",
        "    print('FPR{:d}:\\t{:.2f}\\t+/- {:.2f}'.format(int(100 * recall_level), 100 * np.mean(fprs), 100 * np.std(fprs)))\n",
        "    print('AUROC: \\t{:.2f}\\t+/- {:.2f}'.format(100 * np.mean(aurocs), 100 * np.std(aurocs)))\n",
        "    print('AUPR:  \\t{:.2f}\\t+/- {:.2f}'.format(100 * np.mean(auprs), 100 * np.std(auprs)))\n",
        "\n",
        "\n",
        "def get_and_print_results(out_score, in_score, num_to_avg=1):\n",
        "\n",
        "    aurocs, auprs, fprs = [], [], []\n",
        "    #for _ in range(num_to_avg):\n",
        "    #    out_score = get_ood_scores(ood_loader)\n",
        "    measures = get_measures(out_score, in_score)\n",
        "    aurocs.append(measures[0]); auprs.append(measures[1]); fprs.append(measures[2])\n",
        "\n",
        "    auroc = np.mean(aurocs); aupr = np.mean(auprs); fpr = np.mean(fprs)\n",
        "    #auroc_list.append(auroc); aupr_list.append(aupr); fpr_list.append(fpr)\n",
        "\n",
        "    #if num_to_avg >= 5:\n",
        "    #    print_measures_with_std(aurocs, auprs, fprs, method_name='Ours')\n",
        "    #else:\n",
        "    #    print_measures(auroc, aupr, fpr, method_name='Ours')\n",
        "    return auroc, aupr, fpr"
      ]
    },
    {
      "cell_type": "markdown",
      "metadata": {
        "id": "gCzEhpvwkOV_"
      },
      "source": [
        "# Download Datasets"
      ]
    },
    {
      "cell_type": "code",
      "execution_count": null,
      "metadata": {
        "colab": {
          "base_uri": "https://localhost:8080/"
        },
        "id": "HJ_xK153-IsY",
        "outputId": "ca57e49d-794d-4a47-f1e3-e337a8bc2044"
      },
      "outputs": [
        {
          "name": "stdout",
          "output_type": "stream",
          "text": [
            "/usr/local/lib/python3.8/dist-packages/gdown/parse_url.py:35: UserWarning: You specified a Google Drive link that is not the correct link to download a file. You might want to try `--fuzzy` option or the following url: https://drive.google.com/uc?id=1Mj0i5HBthqH1p_yeXzsg22gZduvgoNeA\n",
            "  warnings.warn(\n",
            "Downloading...\n",
            "From: https://drive.google.com/open?id=1Mj0i5HBthqH1p_yeXzsg22gZduvgoNeA\n",
            "To: /content/open?id=1Mj0i5HBthqH1p_yeXzsg22gZduvgoNeA\n",
            "71.0kB [00:00, 9.71MB/s]\n",
            "/bin/bash: -c: line 0: unexpected EOF while looking for matching `''\n",
            "/bin/bash: -c: line 1: syntax error: unexpected end of file\n"
          ]
        }
      ],
      "source": [
        "# List of all robustness datasets: ImageNet-A, O, R, Validation, Sketch, Style\n",
        "\n",
        "# Imagenet -a\n",
        "!wget https://people.eecs.berkeley.edu/~hendrycks/imagenet-a.tar\n",
        "!tar -xvf  './imagenet-a.tar'\n",
        "\n",
        "# Imagenet -o\n",
        "!wget https://people.eecs.berkeley.edu/~hendrycks/imagenet-o.tar\n",
        "!tar -xvf  './imagenet-o.tar'\n",
        "\n",
        "# Imagenet -r\n",
        "!wget https://people.eecs.berkeley.edu/~hendrycks/imagenet-r.tar\n",
        "!tar -xvf  './imagenet-r.tar'\n",
        "\n",
        "# Imagenet validation\n",
        "!wget https://image-net.org/data/ILSVRC/2012/ILSVRC2012_img_val.tar\n",
        "!mkdir imagenet_val\n",
        "!tar -xvf './ILSVRC2012_img_val.tar' -C './imagenet_val'\n",
        "\n",
        "# Imagenet sketch\n",
        "!gdown https://drive.google.com/open?id=1Mj0i5HBthqH1p_yeXzsg22gZduvgoNeA\n",
        "!tar -xvf  './imagenet-sketch.zip'\n",
        "\n",
        "# Imagenet style\n",
        "!wget http://alisec-competition.oss-cn-shanghai.aliyuncs.com/xiaofeng/easy_robust/benchmark_datasets/imagenet-style.tar.gz\n",
        "!tar -zxvf imagenet-style.tar.gz"
      ]
    },
    {
      "cell_type": "markdown",
      "metadata": {
        "id": "wh1zH0uBk70e"
      },
      "source": [
        "# Imagenet : Libraries"
      ]
    },
    {
      "cell_type": "code",
      "execution_count": null,
      "metadata": {
        "id": "1hP-5s0ek7Le"
      },
      "outputs": [],
      "source": [
        "import torch\n",
        "import torch.nn as nn\n",
        "import torchvision.datasets as dset\n",
        "import torchvision.transforms as trn\n",
        "import torchvision.transforms.functional as trnF\n",
        "import torchvision.models as models\n",
        "import torch.utils.model_zoo as model_zoo\n",
        "import torch.nn.functional as F\n",
        "import numpy as np\n",
        "\n",
        "\n",
        "PATH_TO_IMAGENET_A = \"./imagenet-a\"\n",
        "PATH_TO_IMAGENET_O = \"./imagenet-o\"\n",
        "PATH_TO_IMAGENET_VAL = \"./imagenet_val\"\n",
        "PATH_TO_IMAGENET_R = \"./imagenet-r\"\n",
        "PATH_TO_IMAGENET_SKETCH = \"./imagenet-sketch\"\n",
        "PATH_TO_IMAGENET_STYLE = \"./imagenet-style\"\n",
        "\n",
        "mean = [0.485, 0.456, 0.406]\n",
        "std = [0.229, 0.224, 0.225]\n",
        "\n",
        "test_transform = trn.Compose(\n",
        "    [trn.Resize(256), trn.CenterCrop(224), trn.ToTensor(), trn.Normalize(mean, std)])\n",
        "\n",
        "all_wnids = ['n01440764', 'n01443537', 'n01484850', 'n01491361', 'n01494475', 'n01496331', 'n01498041', 'n01514668', 'n01514859', 'n01518878', 'n01530575', 'n01531178', 'n01532829', 'n01534433', 'n01537544', 'n01558993', 'n01560419', 'n01580077', 'n01582220', 'n01592084', 'n01601694', 'n01608432', 'n01614925', 'n01616318', 'n01622779', 'n01629819', 'n01630670', 'n01631663', 'n01632458', 'n01632777', 'n01641577', 'n01644373', 'n01644900', 'n01664065', 'n01665541', 'n01667114', 'n01667778', 'n01669191', 'n01675722', 'n01677366', 'n01682714', 'n01685808', 'n01687978', 'n01688243', 'n01689811', 'n01692333', 'n01693334', 'n01694178', 'n01695060', 'n01697457', 'n01698640', 'n01704323', 'n01728572', 'n01728920', 'n01729322', 'n01729977', 'n01734418', 'n01735189', 'n01737021', 'n01739381', 'n01740131', 'n01742172', 'n01744401', 'n01748264', 'n01749939', 'n01751748', 'n01753488', 'n01755581', 'n01756291', 'n01768244', 'n01770081', 'n01770393', 'n01773157', 'n01773549', 'n01773797', 'n01774384', 'n01774750', 'n01775062', 'n01776313', 'n01784675', 'n01795545', 'n01796340', 'n01797886', 'n01798484', 'n01806143', 'n01806567', 'n01807496', 'n01817953', 'n01818515', 'n01819313', 'n01820546', 'n01824575', 'n01828970', 'n01829413', 'n01833805', 'n01843065', 'n01843383', 'n01847000', 'n01855032', 'n01855672', 'n01860187', 'n01871265', 'n01872401', 'n01873310', 'n01877812', 'n01882714', 'n01883070', 'n01910747', 'n01914609', 'n01917289', 'n01924916', 'n01930112', 'n01943899', 'n01944390', 'n01945685', 'n01950731', 'n01955084', 'n01968897', 'n01978287', 'n01978455', 'n01980166', 'n01981276', 'n01983481', 'n01984695', 'n01985128', 'n01986214', 'n01990800', 'n02002556', 'n02002724', 'n02006656', 'n02007558', 'n02009229', 'n02009912', 'n02011460', 'n02012849', 'n02013706', 'n02017213', 'n02018207', 'n02018795', 'n02025239', 'n02027492', 'n02028035', 'n02033041', 'n02037110', 'n02051845', 'n02056570', 'n02058221', 'n02066245', 'n02071294', 'n02074367', 'n02077923', 'n02085620', 'n02085782', 'n02085936', 'n02086079', 'n02086240', 'n02086646', 'n02086910', 'n02087046', 'n02087394', 'n02088094', 'n02088238', 'n02088364', 'n02088466', 'n02088632', 'n02089078', 'n02089867', 'n02089973', 'n02090379', 'n02090622', 'n02090721', 'n02091032', 'n02091134', 'n02091244', 'n02091467', 'n02091635', 'n02091831', 'n02092002', 'n02092339', 'n02093256', 'n02093428', 'n02093647', 'n02093754', 'n02093859', 'n02093991', 'n02094114', 'n02094258', 'n02094433', 'n02095314', 'n02095570', 'n02095889', 'n02096051', 'n02096177', 'n02096294', 'n02096437', 'n02096585', 'n02097047', 'n02097130', 'n02097209', 'n02097298', 'n02097474', 'n02097658', 'n02098105', 'n02098286', 'n02098413', 'n02099267', 'n02099429', 'n02099601', 'n02099712', 'n02099849', 'n02100236', 'n02100583', 'n02100735', 'n02100877', 'n02101006', 'n02101388', 'n02101556', 'n02102040', 'n02102177', 'n02102318', 'n02102480', 'n02102973', 'n02104029', 'n02104365', 'n02105056', 'n02105162', 'n02105251', 'n02105412', 'n02105505', 'n02105641', 'n02105855', 'n02106030', 'n02106166', 'n02106382', 'n02106550', 'n02106662', 'n02107142', 'n02107312', 'n02107574', 'n02107683', 'n02107908', 'n02108000', 'n02108089', 'n02108422', 'n02108551', 'n02108915', 'n02109047', 'n02109525', 'n02109961', 'n02110063', 'n02110185', 'n02110341', 'n02110627', 'n02110806', 'n02110958', 'n02111129', 'n02111277', 'n02111500', 'n02111889', 'n02112018', 'n02112137', 'n02112350', 'n02112706', 'n02113023', 'n02113186', 'n02113624', 'n02113712', 'n02113799', 'n02113978', 'n02114367', 'n02114548', 'n02114712', 'n02114855', 'n02115641', 'n02115913', 'n02116738', 'n02117135', 'n02119022', 'n02119789', 'n02120079', 'n02120505', 'n02123045', 'n02123159', 'n02123394', 'n02123597', 'n02124075', 'n02125311', 'n02127052', 'n02128385', 'n02128757', 'n02128925', 'n02129165', 'n02129604', 'n02130308', 'n02132136', 'n02133161', 'n02134084', 'n02134418', 'n02137549', 'n02138441', 'n02165105', 'n02165456', 'n02167151', 'n02168699', 'n02169497', 'n02172182', 'n02174001', 'n02177972', 'n02190166', 'n02206856', 'n02219486', 'n02226429', 'n02229544', 'n02231487', 'n02233338', 'n02236044', 'n02256656', 'n02259212', 'n02264363', 'n02268443', 'n02268853', 'n02276258', 'n02277742', 'n02279972', 'n02280649', 'n02281406', 'n02281787', 'n02317335', 'n02319095', 'n02321529', 'n02325366', 'n02326432', 'n02328150', 'n02342885', 'n02346627', 'n02356798', 'n02361337', 'n02363005', 'n02364673', 'n02389026', 'n02391049', 'n02395406', 'n02396427', 'n02397096', 'n02398521', 'n02403003', 'n02408429', 'n02410509', 'n02412080', 'n02415577', 'n02417914', 'n02422106', 'n02422699', 'n02423022', 'n02437312', 'n02437616', 'n02441942', 'n02442845', 'n02443114', 'n02443484', 'n02444819', 'n02445715', 'n02447366', 'n02454379', 'n02457408', 'n02480495', 'n02480855', 'n02481823', 'n02483362', 'n02483708', 'n02484975', 'n02486261', 'n02486410', 'n02487347', 'n02488291', 'n02488702', 'n02489166', 'n02490219', 'n02492035', 'n02492660', 'n02493509', 'n02493793', 'n02494079', 'n02497673', 'n02500267', 'n02504013', 'n02504458', 'n02509815', 'n02510455', 'n02514041', 'n02526121', 'n02536864', 'n02606052', 'n02607072', 'n02640242', 'n02641379', 'n02643566', 'n02655020', 'n02666196', 'n02667093', 'n02669723', 'n02672831', 'n02676566', 'n02687172', 'n02690373', 'n02692877', 'n02699494', 'n02701002', 'n02704792', 'n02708093', 'n02727426', 'n02730930', 'n02747177', 'n02749479', 'n02769748', 'n02776631', 'n02777292', 'n02782093', 'n02783161', 'n02786058', 'n02787622', 'n02788148', 'n02790996', 'n02791124', 'n02791270', 'n02793495', 'n02794156', 'n02795169', 'n02797295', 'n02799071', 'n02802426', 'n02804414', 'n02804610', 'n02807133', 'n02808304', 'n02808440', 'n02814533', 'n02814860', 'n02815834', 'n02817516', 'n02823428', 'n02823750', 'n02825657', 'n02834397', 'n02835271', 'n02837789', 'n02840245', 'n02841315', 'n02843684', 'n02859443', 'n02860847', 'n02865351', 'n02869837', 'n02870880', 'n02871525', 'n02877765', 'n02879718', 'n02883205', 'n02892201', 'n02892767', 'n02894605', 'n02895154', 'n02906734', 'n02909870', 'n02910353', 'n02916936', 'n02917067', 'n02927161', 'n02930766', 'n02939185', 'n02948072', 'n02950826', 'n02951358', 'n02951585', 'n02963159', 'n02965783', 'n02966193', 'n02966687', 'n02971356', 'n02974003', 'n02977058', 'n02978881', 'n02979186', 'n02980441', 'n02981792', 'n02988304', 'n02992211', 'n02992529', 'n02999410', 'n03000134', 'n03000247', 'n03000684', 'n03014705', 'n03016953', 'n03017168', 'n03018349', 'n03026506', 'n03028079', 'n03032252', 'n03041632', 'n03042490', 'n03045698', 'n03047690', 'n03062245', 'n03063599', 'n03063689', 'n03065424', 'n03075370', 'n03085013', 'n03089624', 'n03095699', 'n03100240', 'n03109150', 'n03110669', 'n03124043', 'n03124170', 'n03125729', 'n03126707', 'n03127747', 'n03127925', 'n03131574', 'n03133878', 'n03134739', 'n03141823', 'n03146219', 'n03160309', 'n03179701', 'n03180011', 'n03187595', 'n03188531', 'n03196217', 'n03197337', 'n03201208', 'n03207743', 'n03207941', 'n03208938', 'n03216828', 'n03218198', 'n03220513', 'n03223299', 'n03240683', 'n03249569', 'n03250847', 'n03255030', 'n03259280', 'n03271574', 'n03272010', 'n03272562', 'n03290653', 'n03291819', 'n03297495', 'n03314780', 'n03325584', 'n03337140', 'n03344393', 'n03345487', 'n03347037', 'n03355925', 'n03372029', 'n03376595', 'n03379051', 'n03384352', 'n03388043', 'n03388183', 'n03388549', 'n03393912', 'n03394916', 'n03400231', 'n03404251', 'n03417042', 'n03424325', 'n03425413', 'n03443371', 'n03444034', 'n03445777', 'n03445924', 'n03447447', 'n03447721', 'n03450230', 'n03452741', 'n03457902', 'n03459775', 'n03461385', 'n03467068', 'n03476684', 'n03476991', 'n03478589', 'n03481172', 'n03482405', 'n03483316', 'n03485407', 'n03485794', 'n03492542', 'n03494278', 'n03495258', 'n03496892', 'n03498962', 'n03527444', 'n03529860', 'n03530642', 'n03532672', 'n03534580', 'n03535780', 'n03538406', 'n03544143', 'n03584254', 'n03584829', 'n03590841', 'n03594734', 'n03594945', 'n03595614', 'n03598930', 'n03599486', 'n03602883', 'n03617480', 'n03623198', 'n03627232', 'n03630383', 'n03633091', 'n03637318', 'n03642806', 'n03649909', 'n03657121', 'n03658185', 'n03661043', 'n03662601', 'n03666591', 'n03670208', 'n03673027', 'n03676483', 'n03680355', 'n03690938', 'n03691459', 'n03692522', 'n03697007', 'n03706229', 'n03709823', 'n03710193', 'n03710637', 'n03710721', 'n03717622', 'n03720891', 'n03721384', 'n03724870', 'n03729826', 'n03733131', 'n03733281', 'n03733805', 'n03742115', 'n03743016', 'n03759954', 'n03761084', 'n03763968', 'n03764736', 'n03769881', 'n03770439', 'n03770679', 'n03773504', 'n03775071', 'n03775546', 'n03776460', 'n03777568', 'n03777754', 'n03781244', 'n03782006', 'n03785016', 'n03786901', 'n03787032', 'n03788195', 'n03788365', 'n03791053', 'n03792782', 'n03792972', 'n03793489', 'n03794056', 'n03796401', 'n03803284', 'n03804744', 'n03814639', 'n03814906', 'n03825788', 'n03832673', 'n03837869', 'n03838899', 'n03840681', 'n03841143', 'n03843555', 'n03854065', 'n03857828', 'n03866082', 'n03868242', 'n03868863', 'n03871628', 'n03873416', 'n03874293', 'n03874599', 'n03876231', 'n03877472', 'n03877845', 'n03884397', 'n03887697', 'n03888257', 'n03888605', 'n03891251', 'n03891332', 'n03895866', 'n03899768', 'n03902125', 'n03903868', 'n03908618', 'n03908714', 'n03916031', 'n03920288', 'n03924679', 'n03929660', 'n03929855', 'n03930313', 'n03930630', 'n03933933', 'n03935335', 'n03937543', 'n03938244', 'n03942813', 'n03944341', 'n03947888', 'n03950228', 'n03954731', 'n03956157', 'n03958227', 'n03961711', 'n03967562', 'n03970156', 'n03976467', 'n03976657', 'n03977966', 'n03980874', 'n03982430', 'n03983396', 'n03991062', 'n03992509', 'n03995372', 'n03998194', 'n04004767', 'n04005630', 'n04008634', 'n04009552', 'n04019541', 'n04023962', 'n04026417', 'n04033901', 'n04033995', 'n04037443', 'n04039381', 'n04040759', 'n04041544', 'n04044716', 'n04049303', 'n04065272', 'n04067472', 'n04069434', 'n04070727', 'n04074963', 'n04081281', 'n04086273', 'n04090263', 'n04099969', 'n04111531', 'n04116512', 'n04118538', 'n04118776', 'n04120489', 'n04125021', 'n04127249', 'n04131690', 'n04133789', 'n04136333', 'n04141076', 'n04141327', 'n04141975', 'n04146614', 'n04147183', 'n04149813', 'n04152593', 'n04153751', 'n04154565', 'n04162706', 'n04179913', 'n04192698', 'n04200800', 'n04201297', 'n04204238', 'n04204347', 'n04208210', 'n04209133', 'n04209239', 'n04228054', 'n04229816', 'n04235860', 'n04238763', 'n04239074', 'n04243546', 'n04251144', 'n04252077', 'n04252225', 'n04254120', 'n04254680', 'n04254777', 'n04258138', 'n04259630', 'n04263257', 'n04264628', 'n04265275', 'n04266014', 'n04270147', 'n04273569', 'n04275548', 'n04277352', 'n04285008', 'n04286575', 'n04296562', 'n04310018', 'n04311004', 'n04311174', 'n04317175', 'n04325704', 'n04326547', 'n04328186', 'n04330267', 'n04332243', 'n04335435', 'n04336792', 'n04344873', 'n04346328', 'n04347754', 'n04350905', 'n04355338', 'n04355933', 'n04356056', 'n04357314', 'n04366367', 'n04367480', 'n04370456', 'n04371430', 'n04371774', 'n04372370', 'n04376876', 'n04380533', 'n04389033', 'n04392985', 'n04398044', 'n04399382', 'n04404412', 'n04409515', 'n04417672', 'n04418357', 'n04423845', 'n04428191', 'n04429376', 'n04435653', 'n04442312', 'n04443257', 'n04447861', 'n04456115', 'n04458633', 'n04461696', 'n04462240', 'n04465501', 'n04467665', 'n04476259', 'n04479046', 'n04482393', 'n04483307', 'n04485082', 'n04486054', 'n04487081', 'n04487394', 'n04493381', 'n04501370', 'n04505470', 'n04507155', 'n04509417', 'n04515003', 'n04517823', 'n04522168', 'n04523525', 'n04525038', 'n04525305', 'n04532106', 'n04532670', 'n04536866', 'n04540053', 'n04542943', 'n04548280', 'n04548362', 'n04550184', 'n04552348', 'n04553703', 'n04554684', 'n04557648', 'n04560804', 'n04562935', 'n04579145', 'n04579432', 'n04584207', 'n04589890', 'n04590129', 'n04591157', 'n04591713', 'n04592741', 'n04596742', 'n04597913', 'n04599235', 'n04604644', 'n04606251', 'n04612504', 'n04613696', 'n06359193', 'n06596364', 'n06785654', 'n06794110', 'n06874185', 'n07248320', 'n07565083', 'n07579787', 'n07583066', 'n07584110', 'n07590611', 'n07613480', 'n07614500', 'n07615774', 'n07684084', 'n07693725', 'n07695742', 'n07697313', 'n07697537', 'n07711569', 'n07714571', 'n07714990', 'n07715103', 'n07716358', 'n07716906', 'n07717410', 'n07717556', 'n07718472', 'n07718747', 'n07720875', 'n07730033', 'n07734744', 'n07742313', 'n07745940', 'n07747607', 'n07749582', 'n07753113', 'n07753275', 'n07753592', 'n07754684', 'n07760859', 'n07768694', 'n07802026', 'n07831146', 'n07836838', 'n07860988', 'n07871810', 'n07873807', 'n07875152', 'n07880968', 'n07892512', 'n07920052', 'n07930864', 'n07932039', 'n09193705', 'n09229709', 'n09246464', 'n09256479', 'n09288635', 'n09332890', 'n09399592', 'n09421951', 'n09428293', 'n09468604', 'n09472597', 'n09835506', 'n10148035', 'n10565667', 'n11879895', 'n11939491', 'n12057211', 'n12144580', 'n12267677', 'n12620546', 'n12768682', 'n12985857', 'n12998815', 'n13037406', 'n13040303', 'n13044778', 'n13052670', 'n13054560', 'n13133613', 'n15075141']\n"
      ]
    },
    {
      "cell_type": "markdown",
      "metadata": {
        "id": "FQPr_8jr4d-P"
      },
      "source": [
        "# Imagenet - A: Dataloader"
      ]
    },
    {
      "cell_type": "code",
      "execution_count": null,
      "metadata": {
        "id": "Y6EcH11NlKKX"
      },
      "outputs": [],
      "source": [
        "imagenet_a_wnids = ['n01498041', 'n01531178', 'n01534433', 'n01558993', 'n01580077', 'n01614925', 'n01616318', 'n01631663', 'n01641577', 'n01669191', 'n01677366', \n",
        "                    'n01687978', 'n01694178', 'n01698640', 'n01735189', 'n01770081', 'n01770393', 'n01774750', 'n01784675', 'n01819313', 'n01820546', 'n01833805', \n",
        "                    'n01843383', 'n01847000', 'n01855672', 'n01882714', 'n01910747', 'n01914609', 'n01924916', 'n01944390', 'n01985128', 'n01986214', 'n02007558', \n",
        "                    'n02009912', 'n02037110', 'n02051845', 'n02077923', 'n02085620', 'n02099601', 'n02106550', 'n02106662', 'n02110958', 'n02119022', 'n02123394', \n",
        "                    'n02127052', 'n02129165', 'n02133161', 'n02137549', 'n02165456', 'n02174001', 'n02177972', 'n02190166', 'n02206856', 'n02219486', 'n02226429', \n",
        "                    'n02231487', 'n02233338', 'n02236044', 'n02259212', 'n02268443', 'n02279972', 'n02280649', 'n02281787', 'n02317335', 'n02325366', 'n02346627', \n",
        "                    'n02356798', 'n02361337', 'n02410509', 'n02445715', 'n02454379', 'n02486410', 'n02492035', 'n02504458', 'n02655020', 'n02669723', 'n02672831', \n",
        "                    'n02676566', 'n02690373', 'n02701002', 'n02730930', 'n02777292', 'n02782093', 'n02787622', 'n02793495', 'n02797295', 'n02802426', 'n02814860', \n",
        "                    'n02815834', 'n02837789', 'n02879718', 'n02883205', 'n02895154', 'n02906734', 'n02948072', 'n02951358', 'n02980441', 'n02992211', 'n02999410', \n",
        "                    'n03014705', 'n03026506', 'n03124043', 'n03125729', 'n03187595', 'n03196217', 'n03223299', 'n03250847', 'n03255030', 'n03291819', 'n03325584', \n",
        "                    'n03355925', 'n03384352', 'n03388043', 'n03417042', 'n03443371', 'n03444034', 'n03445924', 'n03452741', 'n03483316', 'n03584829', 'n03590841', \n",
        "                    'n03594945', 'n03617480', 'n03666591', 'n03670208', 'n03717622', 'n03720891', 'n03721384', 'n03724870', 'n03775071', 'n03788195', 'n03804744', \n",
        "                    'n03837869', 'n03840681', 'n03854065', 'n03888257', 'n03891332', 'n03935335', 'n03982430', 'n04019541', 'n04033901', 'n04039381', 'n04067472', \n",
        "                    'n04086273', 'n04099969', 'n04118538', 'n04131690', 'n04133789', 'n04141076', 'n04146614', 'n04147183', 'n04179913', 'n04208210', 'n04235860', \n",
        "                    'n04252077', 'n04252225', 'n04254120', 'n04270147', 'n04275548', 'n04310018', 'n04317175', 'n04344873', 'n04347754', 'n04355338', 'n04366367', \n",
        "                    'n04376876', 'n04389033', 'n04399382', 'n04442312', 'n04456115', 'n04482393', 'n04507155', 'n04509417', 'n04532670', 'n04540053', 'n04554684', \n",
        "                    'n04562935', 'n04591713', 'n04606251', 'n07583066', 'n07695742', 'n07697313', 'n07697537', 'n07714990', 'n07718472', 'n07720875', 'n07734744', \n",
        "                    'n07749582', 'n07753592', 'n07760859', 'n07768694', 'n07831146', 'n09229709', 'n09246464', 'n09472597', 'n09835506', 'n11879895', 'n12057211', \n",
        "                    'n12144580', 'n12267677']\n",
        "\n",
        "imagenet_a_mask = [wnid in set(imagenet_a_wnids) for wnid in all_wnids]\n",
        "\n",
        "imagenet_a = dset.ImageFolder(root=PATH_TO_IMAGENET_A, transform=test_transform)\n",
        "imagenet_a_loader = torch.utils.data.DataLoader(imagenet_a, batch_size=128, shuffle=False, num_workers=4, pin_memory=True)"
      ]
    },
    {
      "cell_type": "markdown",
      "metadata": {
        "id": "PbwS54F9lanl"
      },
      "source": [
        "# Imagenet - O: Dataloader"
      ]
    },
    {
      "cell_type": "code",
      "execution_count": null,
      "metadata": {
        "id": "bc76pU6EEu9l"
      },
      "outputs": [],
      "source": [
        "# Shell script to convert ImageNet 1k validation set to ImageFolder\n",
        "!wget https://raw.githubusercontent.com/soumith/imagenetloader.torch/master/valprep.sh\n",
        "!mv ./valprep.sh imagenet_val\n",
        "%cd imagenet_val\n",
        "!bash valprep.sh\n",
        "%cd ..\n",
        "!pwd"
      ]
    },
    {
      "cell_type": "code",
      "execution_count": null,
      "metadata": {
        "id": "bvqlQ5w7lOzv"
      },
      "outputs": [],
      "source": [
        "imagenet_o_wnids = ['n01443537', 'n01704323', 'n01770081', 'n01784675', 'n01819313', 'n01820546', 'n01910747', 'n01917289', 'n01968897', 'n02074367', 'n02317335', \n",
        "                    'n02319095', 'n02395406', 'n02454379', 'n02606052', 'n02655020', 'n02666196', 'n02672831', 'n02730930', 'n02777292', 'n02783161', 'n02786058', \n",
        "                    'n02787622', 'n02791270', 'n02808304', 'n02817516', 'n02841315', 'n02865351', 'n02877765', 'n02892767', 'n02906734', 'n02910353', 'n02916936', \n",
        "                    'n02948072', 'n02965783', 'n03000134', 'n03000684', 'n03017168', 'n03026506', 'n03032252', 'n03075370', 'n03109150', 'n03126707', 'n03134739', \n",
        "                    'n03160309', 'n03196217', 'n03207743', 'n03218198', 'n03223299', 'n03240683', 'n03271574', 'n03291819', 'n03297495', 'n03314780', 'n03325584', \n",
        "                    'n03344393', 'n03347037', 'n03372029', 'n03376595', 'n03388043', 'n03388183', 'n03400231', 'n03445777', 'n03457902', 'n03467068', 'n03482405', \n",
        "                    'n03483316', 'n03494278', 'n03530642', 'n03544143', 'n03584829', 'n03590841', 'n03598930', 'n03602883', 'n03649909', 'n03661043', 'n03666591', \n",
        "                    'n03676483', 'n03692522', 'n03706229', 'n03717622', 'n03720891', 'n03721384', 'n03724870', 'n03729826', 'n03733131', 'n03733281', 'n03742115', \n",
        "                    'n03786901', 'n03788365', 'n03794056', 'n03804744', 'n03814639', 'n03814906', 'n03825788', 'n03840681', 'n03843555', 'n03854065', 'n03857828', \n",
        "                    'n03868863', 'n03874293', 'n03884397', 'n03891251', 'n03908714', 'n03920288', 'n03929660', 'n03930313', 'n03937543', 'n03942813', 'n03944341', \n",
        "                    'n03961711', 'n03970156', 'n03982430', 'n03991062', 'n03995372', 'n03998194', 'n04005630', 'n04023962', 'n04033901', 'n04040759', 'n04067472', \n",
        "                    'n04074963', 'n04116512', 'n04118776', 'n04125021', 'n04127249', 'n04131690', 'n04141975', 'n04153751', 'n04154565', 'n04201297', 'n04204347', \n",
        "                    'n04209133', 'n04209239', 'n04228054', 'n04235860', 'n04243546', 'n04252077', 'n04254120', 'n04258138', 'n04265275', 'n04270147', 'n04275548', \n",
        "                    'n04330267', 'n04332243', 'n04336792', 'n04347754', 'n04371430', 'n04371774', 'n04372370', 'n04376876', 'n04409515', 'n04417672', 'n04418357', \n",
        "                    'n04423845', 'n04429376', 'n04435653', 'n04442312', 'n04482393', 'n04501370', 'n04507155', 'n04525305', 'n04542943', 'n04554684', 'n04557648', \n",
        "                    'n04562935', 'n04579432', 'n04591157', 'n04597913', 'n04599235', 'n06785654', 'n06874185', 'n07615774', 'n07693725', 'n07695742', 'n07697537', \n",
        "                    'n07711569', 'n07714990', 'n07715103', 'n07716358', 'n07717410', 'n07718472', 'n07720875', 'n07742313', 'n07745940', 'n07747607', 'n07749582', \n",
        "                    'n07753275', 'n07753592', 'n07754684', 'n07768694', 'n07836838', 'n07871810', 'n07873807', 'n07880968', 'n09229709', 'n09472597', 'n12144580', \n",
        "                    'n12267677', 'n13052670']\n",
        "\n",
        "imagenet_o_mask = [wnid in set(imagenet_o_wnids) for wnid in all_wnids]\n",
        "\n",
        "imagenet_o = dset.ImageFolder(root=PATH_TO_IMAGENET_O, transform=test_transform)\n",
        "imagenet_o_loader = torch.utils.data.DataLoader(imagenet_o, batch_size=128, shuffle=False, num_workers=4, pin_memory=True)\n",
        "val_imagenet_o = dset.ImageFolder(root=PATH_TO_IMAGENET_VAL, transform=test_transform)\n",
        "val_imagenet_o_loader = torch.utils.data.DataLoader(val_imagenet_o, batch_size=128, shuffle=False, num_workers=4, pin_memory=True)\n"
      ]
    },
    {
      "cell_type": "markdown",
      "metadata": {
        "id": "cA7dlfXilgeC"
      },
      "source": [
        "# Imagenet - R: Dataloder\n"
      ]
    },
    {
      "cell_type": "code",
      "execution_count": null,
      "metadata": {
        "id": "h_-LK-7-lSYr"
      },
      "outputs": [],
      "source": [
        "imagenet_r_wnids = {'n01443537', 'n01484850', 'n01494475', 'n01498041', 'n01514859', 'n01518878', 'n01531178', 'n01534433', 'n01614925', 'n01616318', 'n01630670', \n",
        "                    'n01632777', 'n01644373', 'n01677366', 'n01694178', 'n01748264', 'n01770393', 'n01774750', 'n01784675', 'n01806143', 'n01820546', 'n01833805', \n",
        "                    'n01843383', 'n01847000', 'n01855672', 'n01860187', 'n01882714', 'n01910747', 'n01944390', 'n01983481', 'n01986214', 'n02007558', 'n02009912', \n",
        "                    'n02051845', 'n02056570', 'n02066245', 'n02071294', 'n02077923', 'n02085620', 'n02086240', 'n02088094', 'n02088238', 'n02088364', 'n02088466', \n",
        "                    'n02091032', 'n02091134', 'n02092339', 'n02094433', 'n02096585', 'n02097298', 'n02098286', 'n02099601', 'n02099712', 'n02102318', 'n02106030', \n",
        "                    'n02106166', 'n02106550', 'n02106662', 'n02108089', 'n02108915', 'n02109525', 'n02110185', 'n02110341', 'n02110958', 'n02112018', 'n02112137', \n",
        "                    'n02113023', 'n02113624', 'n02113799', 'n02114367', 'n02117135', 'n02119022', 'n02123045', 'n02128385', 'n02128757', 'n02129165', 'n02129604', \n",
        "                    'n02130308', 'n02134084', 'n02138441', 'n02165456', 'n02190166', 'n02206856', 'n02219486', 'n02226429', 'n02233338', 'n02236044', 'n02268443', \n",
        "                    'n02279972', 'n02317335', 'n02325366', 'n02346627', 'n02356798', 'n02363005', 'n02364673', 'n02391049', 'n02395406', 'n02398521', 'n02410509', \n",
        "                    'n02423022', 'n02437616', 'n02445715', 'n02447366', 'n02480495', 'n02480855', 'n02481823', 'n02483362', 'n02486410', 'n02510455', 'n02526121', \n",
        "                    'n02607072', 'n02655020', 'n02672831', 'n02701002', 'n02749479', 'n02769748', 'n02793495', 'n02797295', 'n02802426', 'n02808440', 'n02814860', \n",
        "                    'n02823750', 'n02841315', 'n02843684', 'n02883205', 'n02906734', 'n02909870', 'n02939185', 'n02948072', 'n02950826', 'n02951358', 'n02966193', \n",
        "                    'n02980441', 'n02992529', 'n03124170', 'n03272010', 'n03345487', 'n03372029', 'n03424325', 'n03452741', 'n03467068', 'n03481172', 'n03494278', \n",
        "                    'n03495258', 'n03498962', 'n03594945', 'n03602883', 'n03630383', 'n03649909', 'n03676483', 'n03710193', 'n03773504', 'n03775071', 'n03888257', \n",
        "                    'n03930630', 'n03947888', 'n04086273', 'n04118538', 'n04133789', 'n04141076', 'n04146614', 'n04147183', 'n04192698', 'n04254680', 'n04266014', \n",
        "                    'n04275548', 'n04310018', 'n04325704', 'n04347754', 'n04389033', 'n04409515', 'n04465501', 'n04487394', 'n04522168', 'n04536866', 'n04552348', \n",
        "                    'n04591713', 'n07614500', 'n07693725', 'n07695742', 'n07697313', 'n07697537', 'n07714571', 'n07714990', 'n07718472', 'n07720875', 'n07734744', \n",
        "                    'n07742313', 'n07745940', 'n07749582', 'n07753275', 'n07753592', 'n07768694', 'n07873807', 'n07880968', 'n07920052', 'n09472597', 'n09835506', \n",
        "                    'n10565667', 'n12267677'}\n",
        "\n",
        "imagenet_r_mask = [wnid in imagenet_r_wnids for wnid in all_wnids]\n",
        "\n",
        "imagenet_r = dset.ImageFolder(root=PATH_TO_IMAGENET_R, transform=test_transform)\n",
        "imagenet_r_loader = torch.utils.data.DataLoader(imagenet_r, batch_size=128, shuffle=False, num_workers=4, pin_memory=True)"
      ]
    },
    {
      "cell_type": "markdown",
      "metadata": {
        "id": "_ngpkdSwU5fb"
      },
      "source": [
        "# Imagenet Sketch, Style: Dataloader"
      ]
    },
    {
      "cell_type": "code",
      "execution_count": null,
      "metadata": {
        "id": "-YRknG3mfqm1"
      },
      "outputs": [],
      "source": [
        "# !gdown https://drive.google.com/open?id=1Mj0i5HBthqH1p_yeXzsg22gZduvgoNeA\n",
        "# !tar -xvf  './imagenet-sketch.zip\n",
        "\n",
        "# PATH_TO_IMAGENET_SKETCH = \"./imagenet-sketch\"\n",
        "\n",
        "imagenet_sketch = dset.ImageFolder(root=PATH_TO_IMAGENET_SKETCH, transform=test_transform)\n",
        "sketch_loader = torch.utils.data.DataLoader(imagenet_sketch, batch_size=128, shuffle=False, num_workers=4, pin_memory=True)\n",
        "\n",
        "imagenet_style = dset.ImageFolder(root=PATH_TO_IMAGENET_STYLE, transform=test_transform)\n",
        "style_loader = torch.utils.data.DataLoader(imagenet_style, batch_size=128, shuffle=False, num_workers=4, pin_memory=True)"
      ]
    },
    {
      "cell_type": "markdown",
      "metadata": {
        "id": "I_GPaqtY4f-i"
      },
      "source": [
        "# Example"
      ]
    },
    {
      "cell_type": "code",
      "execution_count": null,
      "metadata": {
        "id": "tj2JkUsJ4xik"
      },
      "outputs": [],
      "source": [
        "# Evaluatio functions\n",
        "\n",
        "concat = lambda x: np.concatenate(x, axis=0)\n",
        "to_np = lambda x: x.data.to('cpu').numpy()\n",
        "\n",
        "def get_predictions(loader, net=None, mask=None, num_cls=1000):\n",
        "    net = timm.create_model(net, pretrained=True, num_classes=num_cls)\n",
        "    net.cuda()\n",
        "    net.eval()\n",
        "    confidence = []\n",
        "    correct = []\n",
        "    num_correct = 0\n",
        "    with torch.no_grad():\n",
        "        for data, target in loader:\n",
        "            data, target = data.cuda(), target.cuda()\n",
        "            output = net(data)[:,mask]\n",
        "\n",
        "            # accuracy\n",
        "            pred = output.data.max(1)[1]\n",
        "            num_correct += pred.eq(target.data).sum().item()\n",
        "\n",
        "            confidence.extend(to_np(F.softmax(output, dim=1).max(1)[0]).squeeze().tolist())\n",
        "            pred = output.data.max(1)[1]\n",
        "            correct.extend(pred.eq(target).to('cpu').numpy().squeeze().tolist())\n",
        "\n",
        "    return np.array(confidence), np.array(correct), num_correct\n",
        "\n",
        "\n",
        "def get_imagenet_results(loader, net=None, mask=None, num_cls=1000):\n",
        "    confidence, correct, num_correct = get_predictions(loader, net, mask, num_cls)\n",
        "    acc = num_correct / len(loader.dataset)\n",
        "    print('Accuracy (%):', round(100*acc, 2))\n",
        "    show_calibration_results(confidence, correct)\n",
        "    \n",
        "    return acc, confidence.copy(), correct.copy()\n",
        "\n",
        "# ImageNet -O uses AUPR as the evaluation metric, calculating the area under the precision-recall curve.\n",
        "def get_imagenet_o_results(in_loader, out_loader, net, mask, num_cls=1000):\n",
        "    confidence_in, correct, num_correct = get_predictions(in_loader, net=net, mask=mask, num_cls=num_cls)\n",
        "    in_score = -confidence_in\n",
        "    confidence_out, correct_out, num_correct_out = get_predictions(out_loader, net=net, mask=mask, num_cls=num_cls)\n",
        "    out_score = -confidence_out\n",
        "\n",
        "    aurocs, auprs, fprs = [], [], []\n",
        "    # Calculate the AUPR by out score and in score\n",
        "    measures = get_measures(out_score, in_score)\n",
        "    aurocs = measures[0]; auprs = measures[1]; fprs = measures[2]\n",
        "\n",
        "    print_measures_old(aurocs, auprs, fprs, method_name='MSP')\n",
        "\n",
        "    # acc = num_correct_out / len(nae_loader.dataset)\n",
        "    # print('Out Dist Accuracy (%):', round(100*acc, 4))\n",
        "    print('AUPR (%):', round(100*auprs, 2))\n",
        "    return auprs.copy(), aurocs.copy(), fprs.copy()\n"
      ]
    },
    {
      "cell_type": "code",
      "execution_count": null,
      "metadata": {
        "id": "PDY47piY9l5b"
      },
      "outputs": [],
      "source": [
        "# Evaluation functions for ImageNet-Sketch and Stylized ImageNet\n",
        "\n",
        "def get_predictions_style(loader, net=None, num_cls=1000):\n",
        "    net = timm.create_model(net, pretrained=True, num_classes=num_cls)\n",
        "    net.cuda()\n",
        "    net.eval()\n",
        "    confidence = []\n",
        "    correct = []\n",
        "    num_correct = 0\n",
        "    with torch.no_grad():\n",
        "        for data, target in loader:\n",
        "            data, target = data.cuda(), target.cuda()\n",
        "            output = net(data)\n",
        "\n",
        "            # accuracy\n",
        "            pred = output.data.max(1)[1]\n",
        "            num_correct += pred.eq(target.data).sum().item()\n",
        "\n",
        "            confidence.extend(to_np(F.softmax(output, dim=1).max(1)[0]).squeeze().tolist())\n",
        "            pred = output.data.max(1)[1]\n",
        "            correct.extend(pred.eq(target).to('cpu').numpy().squeeze().tolist())\n",
        "\n",
        "    return np.array(confidence), np.array(correct), num_correct\n",
        "\n",
        "def get_imagenet_style_results(loader, net=None, num_cls=1000):\n",
        "    confidence, correct, num_correct = get_predictions_style(loader, net, num_cls)\n",
        "    acc = num_correct / len(loader.dataset)\n",
        "    print('Accuracy (%):', round(100*acc, 2))\n",
        "    show_calibration_results(confidence, correct)\n",
        "    \n",
        "    return acc, confidence.copy(), correct.copy()"
      ]
    },
    {
      "cell_type": "markdown",
      "metadata": {
        "id": "jLo138mR6y8x"
      },
      "source": [
        "# Recipe - 1 Running - CNN Model"
      ]
    },
    {
      "cell_type": "code",
      "execution_count": null,
      "metadata": {
        "id": "-boufurJ60Hu"
      },
      "outputs": [],
      "source": [
        "cnn_model_lst_all = ['cspresnet50', 'densenet121', 'dla34', 'dpn68', 'efficientnetv2_rw_m',\n",
        "                     'efficientnet_b0', 'mixnet_l', 'mnasnet_100', 'fbnetc_100', 'spnasnet_100',\n",
        "                     'tinynet_a', 'ghostnet_100', 'hrnet_w18', 'inception_resnet_v2', 'inception_v3', 'nasnetalarge',\n",
        "                     'nf_resnet50', 'pnasnet5large', 'res2net50_14w_8s', 'resnest14d', 'resnet10t', 'rexnet_100',\n",
        "                     'selecsls42b', 'skresnet18', 'tnt_s_patch16_224', 'vgg19', 'ese_vovnet19b_dw', 'xception']"
      ]
    },
    {
      "cell_type": "code",
      "execution_count": null,
      "metadata": {
        "colab": {
          "base_uri": "https://localhost:8080/"
        },
        "id": "AWrv6dnVpAPv",
        "outputId": "a2e8be2b-2db8-4504-9c70-7e0fd473f636"
      },
      "outputs": [],
      "source": [
        "cnn_accuracy_r = []\n",
        "\n",
        "for name in cnn_model_lst_all:\n",
        "  acc_r, test_confidence_r, test_correct_r = get_imagenet_results(imagenet_r_loader, net=name, mask=imagenet_r_mask, num_cls=1000)\n",
        "  value_r = f'ImageNet-R Accuracy (%) for {name} model: {round(100*acc_r, 2)}'\n",
        "  cnn_accuracy_r.append(value_r)\n",
        "\n",
        "print(cnn_accuracy_r)"
      ]
    },
    {
      "cell_type": "code",
      "execution_count": null,
      "metadata": {},
      "outputs": [],
      "source": [
        "cnn_accuracy_o = []\n",
        "\n",
        "for name in cnn_model_lst_all:\n",
        "  auprs, aurocs, fpr_list = get_imagenet_o_results(val_imagenet_o_loader, imagenet_o_loader, net=name, mask=imagenet_o_mask, num_cls=1000)\n",
        "  value = f'ImageNet-O AUPR (%) for {name} model: {round(100*auprs, 2)}'\n",
        "  cnn_accuracy_o.append(value)\n",
        "  \n",
        "print(cnn_accuracy_o)"
      ]
    },
    {
      "cell_type": "code",
      "execution_count": null,
      "metadata": {
        "colab": {
          "base_uri": "https://localhost:8080/"
        },
        "id": "mJFcKV09MQVG",
        "outputId": "5912ff68-2a39-4ee4-b9a5-c2b08542929f"
      },
      "outputs": [
        {
          "data": {
            "text/plain": [
              "['ImageNet-O AUPR (%) for cspresnet50 model: 2.19',\n",
              " 'ImageNet-O AUPR (%) for densenet121 model: 2.17',\n",
              " 'ImageNet-O AUPR (%) for dla34 model: 2.22',\n",
              " 'ImageNet-O AUPR (%) for dpn68 model: 2.23',\n",
              " 'ImageNet-O AUPR (%) for efficientnetv2_rw_m model: 2.21',\n",
              " 'ImageNet-O AUPR (%) for efficientnet_b0 model: 2.18',\n",
              " 'ImageNet-O AUPR (%) for mixnet_l model: 2.17',\n",
              " 'ImageNet-O AUPR (%) for mnasnet_100 model: 2.16',\n",
              " 'ImageNet-O AUPR (%) for fbnetc_100 model: 2.16',\n",
              " 'ImageNet-O AUPR (%) for spnasnet_100 model: 2.18',\n",
              " 'ImageNet-O AUPR (%) for tinynet_a model: 2.18',\n",
              " 'ImageNet-O AUPR (%) for ghostnet_100 model: 2.18',\n",
              " 'ImageNet-O AUPR (%) for hrnet_w18 model: 2.23',\n",
              " 'ImageNet-O AUPR (%) for inception_resnet_v2 model: 2.25',\n",
              " 'ImageNet-O AUPR (%) for inception_v3 model: 2.29',\n",
              " 'ImageNet-O AUPR (%) for nasnetalarge model: 2.97',\n",
              " 'ImageNet-O AUPR (%) for nf_resnet50 model: 2.17',\n",
              " 'ImageNet-O AUPR (%) for pnasnet5large model: 2.34',\n",
              " 'ImageNet-O AUPR (%) for res2net50_14w_8s model: 2.11',\n",
              " 'ImageNet-O AUPR (%) for resnest14d model: 2.2',\n",
              " 'ImageNet-O AUPR (%) for resnet10t model: 2.23',\n",
              " 'ImageNet-O AUPR (%) for rexnet_100 model: 2.17',\n",
              " 'ImageNet-O AUPR (%) for selecsls42b model: 2.16',\n",
              " 'ImageNet-O AUPR (%) for skresnet18 model: 2.17',\n",
              " 'ImageNet-O AUPR (%) for tnt_s_patch16_224 model: 2.2',\n",
              " 'ImageNet-O AUPR (%) for vgg19 model: 2.37',\n",
              " 'ImageNet-O AUPR (%) for ese_vovnet19b_dw model: 2.18',\n",
              " 'ImageNet-O AUPR (%) for xception model: 2.28']"
            ]
          },
          "execution_count": 24,
          "metadata": {},
          "output_type": "execute_result"
        }
      ],
      "source": [
        "cnn_accuracy_o"
      ]
    },
    {
      "cell_type": "code",
      "execution_count": null,
      "metadata": {
        "colab": {
          "base_uri": "https://localhost:8080/"
        },
        "id": "gGK6zAYuqS2E",
        "outputId": "bc8c37ae-1e92-4901-b337-5d5c9c378a59"
      },
      "outputs": [
        {
          "name": "stdout",
          "output_type": "stream",
          "text": [
            "Accuracy (%): 10.58\n",
            "RMS Calib Error (%): \t26.12\n",
            "AURRA (%): \t\t20.75\n"
          ]
        },
        {
          "name": "stderr",
          "output_type": "stream",
          "text": [
            "Downloading: \"https://github.com/rwightman/pytorch-image-models/releases/download/v0.1-weights/densenet121_ra-50efcf5c.pth\" to /root/.cache/torch/hub/checkpoints/densenet121_ra-50efcf5c.pth\n"
          ]
        },
        {
          "name": "stdout",
          "output_type": "stream",
          "text": [
            "Accuracy (%): 8.13\n",
            "RMS Calib Error (%): \t19.66\n",
            "AURRA (%): \t\t14.80\n"
          ]
        },
        {
          "name": "stderr",
          "output_type": "stream",
          "text": [
            "Downloading: \"https://github.com/rwightman/pytorch-image-models/releases/download/v0.1-weights/dla34-2b83ff04.pth\" to /root/.cache/torch/hub/checkpoints/dla34-2b83ff04.pth\n"
          ]
        },
        {
          "name": "stdout",
          "output_type": "stream",
          "text": [
            "Accuracy (%): 7.61\n",
            "RMS Calib Error (%): \t28.50\n",
            "AURRA (%): \t\t14.49\n"
          ]
        },
        {
          "name": "stderr",
          "output_type": "stream",
          "text": [
            "Downloading: \"https://github.com/rwightman/pytorch-dpn-pretrained/releases/download/v0.1/dpn68-66bebafa7.pth\" to /root/.cache/torch/hub/checkpoints/dpn68-66bebafa7.pth\n"
          ]
        },
        {
          "name": "stdout",
          "output_type": "stream",
          "text": [
            "Accuracy (%): 11.04\n",
            "RMS Calib Error (%): \t29.18\n",
            "AURRA (%): \t\t22.60\n"
          ]
        },
        {
          "name": "stderr",
          "output_type": "stream",
          "text": [
            "Downloading: \"https://github.com/rwightman/pytorch-image-models/releases/download/v0.1-weights/efficientnetv2_rw_m_agc-3d90cb1e.pth\" to /root/.cache/torch/hub/checkpoints/efficientnetv2_rw_m_agc-3d90cb1e.pth\n"
          ]
        },
        {
          "name": "stdout",
          "output_type": "stream",
          "text": [
            "Accuracy (%): 23.3\n",
            "RMS Calib Error (%): \t18.07\n",
            "AURRA (%): \t\t42.44\n"
          ]
        },
        {
          "name": "stderr",
          "output_type": "stream",
          "text": [
            "Downloading: \"https://github.com/rwightman/pytorch-image-models/releases/download/v0.1-weights/efficientnet_b0_ra-3dd342df.pth\" to /root/.cache/torch/hub/checkpoints/efficientnet_b0_ra-3dd342df.pth\n"
          ]
        },
        {
          "name": "stdout",
          "output_type": "stream",
          "text": [
            "Accuracy (%): 11.45\n",
            "RMS Calib Error (%): \t19.03\n",
            "AURRA (%): \t\t22.75\n"
          ]
        },
        {
          "name": "stderr",
          "output_type": "stream",
          "text": [
            "Downloading: \"https://github.com/rwightman/pytorch-image-models/releases/download/v0.1-weights/mixnet_l-5a9a2ed8.pth\" to /root/.cache/torch/hub/checkpoints/mixnet_l-5a9a2ed8.pth\n"
          ]
        },
        {
          "name": "stdout",
          "output_type": "stream",
          "text": [
            "Accuracy (%): 11.13\n",
            "RMS Calib Error (%): \t24.48\n",
            "AURRA (%): \t\t21.54\n"
          ]
        },
        {
          "name": "stderr",
          "output_type": "stream",
          "text": [
            "Downloading: \"https://github.com/rwightman/pytorch-image-models/releases/download/v0.1-weights/mnasnet_b1-74cb7081.pth\" to /root/.cache/torch/hub/checkpoints/mnasnet_b1-74cb7081.pth\n"
          ]
        },
        {
          "name": "stdout",
          "output_type": "stream",
          "text": [
            "Accuracy (%): 7.63\n",
            "RMS Calib Error (%): \t26.05\n",
            "AURRA (%): \t\t13.13\n"
          ]
        },
        {
          "name": "stderr",
          "output_type": "stream",
          "text": [
            "Downloading: \"https://github.com/rwightman/pytorch-image-models/releases/download/v0.1-weights/fbnetc_100-c345b898.pth\" to /root/.cache/torch/hub/checkpoints/fbnetc_100-c345b898.pth\n"
          ]
        },
        {
          "name": "stdout",
          "output_type": "stream",
          "text": [
            "Accuracy (%): 7.66\n",
            "RMS Calib Error (%): \t29.28\n",
            "AURRA (%): \t\t13.24\n"
          ]
        },
        {
          "name": "stderr",
          "output_type": "stream",
          "text": [
            "Downloading: \"https://github.com/rwightman/pytorch-image-models/releases/download/v0.1-weights/spnasnet_100-048bc3f4.pth\" to /root/.cache/torch/hub/checkpoints/spnasnet_100-048bc3f4.pth\n"
          ]
        },
        {
          "name": "stdout",
          "output_type": "stream",
          "text": [
            "Accuracy (%): 7.39\n",
            "RMS Calib Error (%): \t22.66\n",
            "AURRA (%): \t\t13.69\n"
          ]
        }
      ],
      "source": [
        "cnn_accuracy_style = []\n",
        "\n",
        "for name in cnn_model_lst_all:\n",
        "  acc, confidence, correct = get_imagenet_style_results(style_loader, net=name, num_cls=1000)\n",
        "  value = f'ImageNet-Style Accuracy (%) for {name} model: {round(100*acc, 2)}'\n",
        "  cnn_accuracy_style.append(value)\n",
        "  \n",
        "print(cnn_accuracy_style)"
      ]
    },
    {
      "cell_type": "markdown",
      "metadata": {
        "id": "5_4GAtu3B-Wm"
      },
      "source": [
        "# Recipe - 2 - Running - Vision Transformer Model"
      ]
    },
    {
      "cell_type": "code",
      "execution_count": null,
      "metadata": {
        "id": "9CQY0r7rCCKm"
      },
      "outputs": [],
      "source": [
        "vit_model_lst_all = ['beit_base_patch16_224', 'cait_s24_224', 'coatnet_0_rw_224', 'crossvit_base_240', \n",
        "                 'deit_base_patch16_224', 'deit3_base_patch16_224', 'efficientformer_l1', 'gcvit_base',\n",
        "                 'maxvit_tiny_rw_224', 'mobilevit_s', 'mvitv2_base', 'jx_nest_small', 'pit_b_224'\n",
        "                 'pit_s_224', 'swin_s3_base_224', 'swinv2_cr_small_224', 'tnt_s_patch16_224', 'twins_pcpvt_base',\n",
        "                 'visformer_small', 'vit_base_patch32_224', 'volo_d1_224', 'xcit_small_12_p8_224']"
      ]
    },
    {
      "cell_type": "code",
      "execution_count": null,
      "metadata": {
        "id": "LPZO-Kw4sqNI"
      },
      "outputs": [],
      "source": [
        "vit_accuracy_r = []\n",
        "\n",
        "for name in vit_model_lst_all:\n",
        "  acc_r, test_confidence_r, test_correct_r = get_imagenet_results(imagenet_r_loader, net=name, mask=imagenet_r_mask, num_cls=1000)\n",
        "  value_r = f'ImageNet-R Accuracy (%) for {name} model: {round(100*acc_r, 2)}'\n",
        "  vit_accuracy_r.append(value_r)\n",
        "\n",
        "print(vit_accuracy_r)"
      ]
    },
    {
      "cell_type": "code",
      "execution_count": null,
      "metadata": {
        "colab": {
          "base_uri": "https://localhost:8080/",
          "height": 1000
        },
        "id": "6qQucCzGOrDw",
        "outputId": "7cc7223c-7ac1-493b-bad0-6abe4a661930"
      },
      "outputs": [],
      "source": [
        "vit_accuracy_o = []\n",
        "\n",
        "for name in vit_model_lst_all:\n",
        "  auprs, aurocs, fpr_list = get_imagenet_o_results(val_imagenet_o_loader, imagenet_o_loader, net=name, mask=imagenet_o_mask, num_cls=1000)\n",
        "  value = f'ImageNet-O AUPR (%) for {name} model: {round(100*auprs, 2)}'\n",
        "  vit_accuracy_o.append(value)\n",
        "\n",
        "print(vit_accuracy_o)"
      ]
    },
    {
      "cell_type": "code",
      "execution_count": null,
      "metadata": {
        "colab": {
          "base_uri": "https://localhost:8080/"
        },
        "id": "dYvgrPFStF6V",
        "outputId": "f81e4ff1-c2ef-45cc-c597-ea014ce5cfb9"
      },
      "outputs": [],
      "source": [
        "vit_accuracy_style = []\n",
        "\n",
        "for name in vit_model_lst_all:\n",
        "  acc, confidence, correct = get_imagenet_style_results(style_loader, net=name, num_cls=1000)\n",
        "  value = f'ImageNet-Style Accuracy (%) for {name} model: {round(100*acc, 2)}'\n",
        "  vit_accuracy_style.append(value)\n",
        "  \n",
        "print(vit_accuracy_style)"
      ]
    },
    {
      "cell_type": "markdown",
      "metadata": {
        "id": "tm2qUb69jL6A"
      },
      "source": [
        "# Recipe - 3 - Combination of CNN and Vision Transformer"
      ]
    },
    {
      "cell_type": "code",
      "execution_count": null,
      "metadata": {
        "id": "9GWU0WBOjOwa"
      },
      "outputs": [],
      "source": [
        "combine_model_lst = ['convnext_base', 'convit_base', 'edgenext_base', 'levit_128']"
      ]
    },
    {
      "cell_type": "code",
      "execution_count": null,
      "metadata": {
        "colab": {
          "base_uri": "https://localhost:8080/"
        },
        "id": "b77R5tqLjOzT",
        "outputId": "d9f3fab0-700d-4dfc-c77a-a952a3ac0152"
      },
      "outputs": [
        {
          "name": "stderr",
          "output_type": "stream",
          "text": [
            "Downloading: \"https://dl.fbaipublicfiles.com/convnext/convnext_base_1k_224_ema.pth\" to /root/.cache/torch/hub/checkpoints/convnext_base_1k_224_ema.pth\n"
          ]
        },
        {
          "name": "stdout",
          "output_type": "stream",
          "text": [
            "Accuracy (%): 51.7067\n",
            "RMS Calib Error (%): \t11.06\n",
            "AURRA (%): \t\t79.11\n"
          ]
        },
        {
          "name": "stderr",
          "output_type": "stream",
          "text": [
            "Downloading: \"https://dl.fbaipublicfiles.com/convit/convit_base.pth\" to /root/.cache/torch/hub/checkpoints/convit_base.pth\n"
          ]
        },
        {
          "name": "stdout",
          "output_type": "stream",
          "text": [
            "Accuracy (%): 48.7867\n",
            "RMS Calib Error (%): \t4.41\n",
            "AURRA (%): \t\t78.03\n"
          ]
        },
        {
          "name": "stderr",
          "output_type": "stream",
          "text": [
            "Downloading: \"https://github.com/mmaaz60/EdgeNeXt/releases/download/v1.2/edgenext_base_usi.pth\" to /root/.cache/torch/hub/checkpoints/edgenext_base_usi.pth\n"
          ]
        },
        {
          "name": "stdout",
          "output_type": "stream",
          "text": [
            "Accuracy (%): 51.0433\n",
            "RMS Calib Error (%): \t7.34\n",
            "AURRA (%): \t\t79.37\n"
          ]
        },
        {
          "name": "stderr",
          "output_type": "stream",
          "text": [
            "Downloading: \"https://dl.fbaipublicfiles.com/LeViT/LeViT-128-b88c2750.pth\" to /root/.cache/torch/hub/checkpoints/LeViT-128-b88c2750.pth\n"
          ]
        },
        {
          "name": "stdout",
          "output_type": "stream",
          "text": [
            "Accuracy (%): 40.2833\n",
            "RMS Calib Error (%): \t14.30\n",
            "AURRA (%): \t\t69.47\n"
          ]
        }
      ],
      "source": [
        "combine_accuracy = []\n",
        "\n",
        "for name in combine_model_lst:\n",
        "  acc, test_confidence, test_correct = get_imagenet_results(imagenet_r_loader, net=name, mask=imagenet_r_mask, num_cls=1000)\n",
        "  value = f'ImageNet-A Accuracy (%) for {name} model: {round(100*acc, 2)}'\n",
        "  combine_accuracy.append(value)\n",
        "  #show_calibration_results(np.array(test_confidence), np.array(test_correct))"
      ]
    },
    {
      "cell_type": "code",
      "execution_count": null,
      "metadata": {
        "colab": {
          "base_uri": "https://localhost:8080/"
        },
        "id": "O0iamhk7jr_p",
        "outputId": "138b38ae-723b-4b0f-e708-8fb6bf4d449c"
      },
      "outputs": [
        {
          "data": {
            "text/plain": [
              "['ImageNet-A Accuracy (%) for convnext_base model: 51.7067',\n",
              " 'ImageNet-A Accuracy (%) for convit_base model: 48.7867',\n",
              " 'ImageNet-A Accuracy (%) for edgenext_base model: 51.0433',\n",
              " 'ImageNet-A Accuracy (%) for levit_128 model: 40.2833']"
            ]
          },
          "execution_count": 44,
          "metadata": {},
          "output_type": "execute_result"
        }
      ],
      "source": [
        "combine_accuracy"
      ]
    },
    {
      "cell_type": "markdown",
      "metadata": {
        "id": "tTiBWIBm2Jbn"
      },
      "source": [
        "# Recipe - 4 - Running MLP Mixer"
      ]
    },
    {
      "cell_type": "code",
      "execution_count": null,
      "metadata": {
        "id": "VpYxGfhs2LCf"
      },
      "outputs": [],
      "source": [
        "mlp_model_lst = ['mixer_b16_224']"
      ]
    },
    {
      "cell_type": "code",
      "execution_count": null,
      "metadata": {
        "colab": {
          "base_uri": "https://localhost:8080/"
        },
        "id": "aIKYZXfA2LEk",
        "outputId": "3dba5214-ece8-410f-a18c-17c2b44013b0"
      },
      "outputs": [
        {
          "name": "stdout",
          "output_type": "stream",
          "text": [
            "Accuracy (%): 32.75\n",
            "RMS Calib Error (%): \t25.04\n",
            "AURRA (%): \t\t61.50\n"
          ]
        }
      ],
      "source": [
        "mlp_accuracy = []\n",
        "\n",
        "for name in mlp_model_lst:\n",
        "  acc, test_confidence, test_correct = get_imagenet_results(imagenet_r_loader, net=name, mask=imagenet_r_mask, num_cls=1000)\n",
        "  value = f'ImageNet-R Accuracy (%) for {name} model: {round(100*acc, 2)}'\n",
        "  mlp_accuracy.append(value)\n",
        "  #show_calibration_results(np.array(test_confidence), np.array(test_correct))"
      ]
    },
    {
      "cell_type": "code",
      "execution_count": null,
      "metadata": {
        "colab": {
          "base_uri": "https://localhost:8080/"
        },
        "id": "HgkB2ZDw2NwK",
        "outputId": "c2c93f7d-e10d-4de0-8e98-b30c9bb04e52"
      },
      "outputs": [
        {
          "data": {
            "text/plain": [
              "['ImageNet-A Accuracy (%) for mixer_b16_224 model: 32.75']"
            ]
          },
          "execution_count": 51,
          "metadata": {},
          "output_type": "execute_result"
        }
      ],
      "source": [
        "mlp_accuracy"
      ]
    },
    {
      "cell_type": "markdown",
      "metadata": {
        "id": "qHMVKqcIdm8A"
      },
      "source": [
        "# 5.    Recipe - 5 - Mobilenet:"
      ]
    },
    {
      "cell_type": "code",
      "execution_count": null,
      "metadata": {
        "id": "f_U0u_lSdsee"
      },
      "outputs": [],
      "source": [
        "mobilenet_model_lst = ['mobilenetv3_large_100']"
      ]
    },
    {
      "cell_type": "code",
      "execution_count": null,
      "metadata": {
        "colab": {
          "base_uri": "https://localhost:8080/"
        },
        "id": "CAzrZ7k3dsg0",
        "outputId": "bdddd7d2-1ad7-4bb3-db73-b8e3f954e3a5"
      },
      "outputs": [
        {
          "name": "stderr",
          "output_type": "stream",
          "text": [
            "Downloading: \"https://github.com/rwightman/pytorch-image-models/releases/download/v0.1-weights/mobilenetv3_large_100_ra-f55367f5.pth\" to /root/.cache/torch/hub/checkpoints/mobilenetv3_large_100_ra-f55367f5.pth\n"
          ]
        },
        {
          "name": "stdout",
          "output_type": "stream",
          "text": [
            "Accuracy (%): 35.1067\n",
            "RMS Calib Error (%): \t8.45\n",
            "AURRA (%): \t\t62.61\n"
          ]
        }
      ],
      "source": [
        "mobilenet_accuracy = []\n",
        "\n",
        "for name in mobilenet_model_lst:\n",
        "  acc, test_confidence, test_correct = get_imagenet_results(imagenet_r_loader, net=name, mask=imagenet_r_mask, num_cls=1000)\n",
        "  value = f'ImageNet-A Accuracy (%) for {name} model: {round(100*acc, 2)}'\n",
        "  mobilenet_accuracy.append(value)\n",
        "  #show_calibration_results(np.array(test_confidence), np.array(test_correct))"
      ]
    },
    {
      "cell_type": "code",
      "execution_count": null,
      "metadata": {
        "colab": {
          "base_uri": "https://localhost:8080/"
        },
        "id": "SMZhDSwEdtmP",
        "outputId": "ba3c1ca8-bbce-45a7-90e6-abdf24426a07"
      },
      "outputs": [
        {
          "data": {
            "text/plain": [
              "['ImageNet-A Accuracy (%) for mobilenetv3_large_100 model: 35.1067']"
            ]
          },
          "execution_count": 50,
          "metadata": {},
          "output_type": "execute_result"
        }
      ],
      "source": [
        "mobilenet_accuracy"
      ]
    },
    {
      "cell_type": "markdown",
      "metadata": {
        "id": "w88C3570duAm"
      },
      "source": [
        "# 6.  Recipe - 6 - Others"
      ]
    },
    {
      "cell_type": "code",
      "execution_count": null,
      "metadata": {
        "id": "_Wz3h4kkdxKZ"
      },
      "outputs": [],
      "source": [
        "others_model_lst = ['regnetv_040', 'sequencer2d_l']"
      ]
    },
    {
      "cell_type": "code",
      "execution_count": null,
      "metadata": {
        "colab": {
          "base_uri": "https://localhost:8080/"
        },
        "id": "BX1VIEDNdxRT",
        "outputId": "a7787a93-5230-4abf-8386-ac11d11b47cc"
      },
      "outputs": [
        {
          "name": "stderr",
          "output_type": "stream",
          "text": [
            "Downloading: \"https://github.com/rwightman/pytorch-image-models/releases/download/v0.1-tpu-weights/regnetv_040_ra3-c248f51f.pth\" to /root/.cache/torch/hub/checkpoints/regnetv_040_ra3-c248f51f.pth\n"
          ]
        },
        {
          "name": "stdout",
          "output_type": "stream",
          "text": [
            "Accuracy (%): 44.7433\n",
            "RMS Calib Error (%): \t5.06\n",
            "AURRA (%): \t\t73.64\n"
          ]
        },
        {
          "name": "stderr",
          "output_type": "stream",
          "text": [
            "Downloading: \"https://github.com/okojoalg/sequencer/releases/download/weights/sequencer2d_l.pth\" to /root/.cache/torch/hub/checkpoints/sequencer2d_l.pth\n"
          ]
        },
        {
          "name": "stdout",
          "output_type": "stream",
          "text": [
            "Accuracy (%): 48.5567\n",
            "RMS Calib Error (%): \t7.92\n",
            "AURRA (%): \t\t76.98\n"
          ]
        }
      ],
      "source": [
        "others_accuracy_a = []\n",
        "\n",
        "for name in others_model_lst:\n",
        "  acc, test_confidence, test_correct = get_imagenet_results(imagenet_r_loader, net=name, mask=imagenet_r_mask, num_cls=1000)\n",
        "  value = f'ImageNet-A Accuracy (%) for {name} model: {round(100*acc, 2)}'\n",
        "  others_accuracy_a.append(value)\n",
        "  #show_calibration_results(np.array(test_confidence), np.array(test_correct))\n",
        "\n",
        "print(others_accuracy_a)"
      ]
    },
    {
      "cell_type": "code",
      "execution_count": null,
      "metadata": {
        "colab": {
          "background_save": true
        },
        "id": "Yy-84XbiSJ9L",
        "outputId": "103370e7-fabe-4d18-ca39-5bc5a97bae07"
      },
      "outputs": [
        {
          "name": "stderr",
          "output_type": "stream",
          "text": [
            "/usr/local/lib/python3.8/dist-packages/PIL/TiffImagePlugin.py:767: UserWarning: Possibly corrupt EXIF data.  Expecting to read 8 bytes but only got 4. Skipping tag 37381\n",
            "  warnings.warn(\n",
            "/usr/local/lib/python3.8/dist-packages/PIL/TiffImagePlugin.py:767: UserWarning: Possibly corrupt EXIF data.  Expecting to read 8 bytes but only got 0. Skipping tag 37386\n",
            "  warnings.warn(\n"
          ]
        },
        {
          "name": "stdout",
          "output_type": "stream",
          "text": [
            "\t\t\tMSP\n",
            "FPR95:\t98.67\n",
            "AUROC: \t14.36\n",
            "AUPR:  \t2.17\n"
          ]
        },
        {
          "name": "stderr",
          "output_type": "stream",
          "text": [
            "Downloading: \"https://github.com/okojoalg/sequencer/releases/download/weights/sequencer2d_l.pth\" to /root/.cache/torch/hub/checkpoints/sequencer2d_l.pth\n",
            "/usr/local/lib/python3.8/dist-packages/PIL/TiffImagePlugin.py:767: UserWarning: Possibly corrupt EXIF data.  Expecting to read 8 bytes but only got 4. Skipping tag 37381\n",
            "  warnings.warn(\n",
            "/usr/local/lib/python3.8/dist-packages/PIL/TiffImagePlugin.py:767: UserWarning: Possibly corrupt EXIF data.  Expecting to read 8 bytes but only got 0. Skipping tag 37386\n",
            "  warnings.warn(\n"
          ]
        },
        {
          "name": "stdout",
          "output_type": "stream",
          "text": [
            "\t\t\tMSP\n",
            "FPR95:\t98.67\n",
            "AUROC: \t14.53\n",
            "AUPR:  \t2.18\n"
          ]
        },
        {
          "data": {
            "text/plain": [
              "['ImageNet-O AUPR (%) for regnetv_040 model: 2.17',\n",
              " 'ImageNet-O AUPR (%) for sequencer2d_l model: 2.18']"
            ]
          },
          "execution_count": 45,
          "metadata": {},
          "output_type": "execute_result"
        }
      ],
      "source": [
        "others_model_lst = ['regnetv_040', 'sequencer2d_l']\n",
        "\n",
        "others_accuracy_o = []\n",
        "\n",
        "for name in others_model_lst:\n",
        "  auprs, aurocs, fpr_list = get_imagenet_o_results(val_imagenet_o_loader, imagenet_o_loader, net=name, mask=imagenet_o_mask, num_cls=1000)\n",
        "  value = f'ImageNet-O AUPR (%) for {name} model: {round(100*auprs, 2)}'\n",
        "  others_accuracy_o.append(value)\n",
        "\n",
        "print(others_accuracy_o)"
      ]
    },
    {
      "cell_type": "code",
      "execution_count": null,
      "metadata": {
        "colab": {
          "base_uri": "https://localhost:8080/"
        },
        "id": "TM8YjXFwdxXB",
        "outputId": "53c20ffa-09de-4c59-b100-579883e07414"
      },
      "outputs": [
        {
          "name": "stderr",
          "output_type": "stream",
          "text": [
            "Downloading: \"https://github.com/rwightman/pytorch-image-models/releases/download/v0.1-tpu-weights/regnetv_040_ra3-c248f51f.pth\" to /root/.cache/torch/hub/checkpoints/regnetv_040_ra3-c248f51f.pth\n"
          ]
        },
        {
          "name": "stdout",
          "output_type": "stream",
          "text": [
            "Accuracy (%): 11.88\n",
            "RMS Calib Error (%): \t21.39\n",
            "AURRA (%): \t\t23.21\n"
          ]
        },
        {
          "name": "stderr",
          "output_type": "stream",
          "text": [
            "Downloading: \"https://github.com/okojoalg/sequencer/releases/download/weights/sequencer2d_l.pth\" to /root/.cache/torch/hub/checkpoints/sequencer2d_l.pth\n"
          ]
        },
        {
          "name": "stdout",
          "output_type": "stream",
          "text": [
            "Accuracy (%): 16.74\n",
            "RMS Calib Error (%): \t21.59\n",
            "AURRA (%): \t\t30.03\n"
          ]
        },
        {
          "data": {
            "text/plain": [
              "['ImageNet-Style Accuracy (%) for regnetv_040 model: 11.88',\n",
              " 'ImageNet-Style Accuracy (%) for sequencer2d_l model: 16.74']"
            ]
          },
          "execution_count": 23,
          "metadata": {},
          "output_type": "execute_result"
        }
      ],
      "source": [
        "others_model_lst = ['regnetv_040', 'sequencer2d_l']\n",
        "\n",
        "others_accuracy_style = []\n",
        "\n",
        "for name in others_model_lst:\n",
        "  acc, confidence, correct = get_imagenet_style_results(style_loader, net=name, num_cls=1000)\n",
        "  value = f'ImageNet-Style Accuracy (%) for {name} model: {round(100*acc, 2)}'\n",
        "  others_accuracy_style.append(value)\n",
        "\n",
        "print(others_accuracy_style)"
      ]
    }
  ],
  "metadata": {
    "accelerator": "GPU",
    "colab": {
      "collapsed_sections": [
        "kaZnh628NSXt"
      ],
      "machine_shape": "hm",
      "provenance": [],
      "toc_visible": true
    },
    "gpuClass": "premium",
    "kernelspec": {
      "display_name": "Python 3",
      "name": "python3"
    },
    "language_info": {
      "name": "python"
    }
  },
  "nbformat": 4,
  "nbformat_minor": 0
}
